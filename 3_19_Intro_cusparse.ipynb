{
 "cells": [
  {
   "cell_type": "markdown",
   "metadata": {},
   "source": [
    "![](https://www.math.unipd.it/~marcuzzi/BannerStrumentifondamentali.png)\n",
    "\n",
    "\n",
    "# cuSPARSE\n",
    "\n",
    "La libreria cuSPARSE è un'implementazione GPU della libreria BLAS specifica per le matrici sparse. Il binding a cuSPARSE di Pyculib fornisce un'interfaccia che permette di lavorare con le matrici sparse di scipy, trasferendole automaticamente (oppure manualmente) sulla memoria device.\n",
    "\n",
    "Tutte le funzioni sono accessibili tramite gli oggetti della classe `class pyculib.sparse.Sparse`.\n",
    "    \n",
    "Vediamo come trasferire in memoria GPU una matrice sparsa!"
   ]
  },
  {
   "cell_type": "code",
   "execution_count": 1,
   "metadata": {},
   "outputs": [],
   "source": [
    "import numpy as np\n",
    "import scipy\n",
    "from scipy.sparse import csr_matrix\n",
    "import scipy.sparse.linalg as sla\n",
    "from scipy.io import mmread\n",
    "import matplotlib.pyplot as plt"
   ]
  },
  {
   "cell_type": "code",
   "execution_count": 2,
   "metadata": {},
   "outputs": [],
   "source": [
    "import pyculib\n",
    "import pyculib.sparse as sparse"
   ]
  },
  {
   "cell_type": "code",
   "execution_count": 3,
   "metadata": {},
   "outputs": [],
   "source": [
    "# creo oggetto sparse\n",
    "cusparseH = sparse.Sparse()"
   ]
  },
  {
   "cell_type": "markdown",
   "metadata": {},
   "source": [
    "Cusparse supporta i seguenti formati compressi per le matrici sparse: \n",
    "- BSR Block Sparse Row (non abbiamo visto questo formato, utilizzato per matrici sparse che presentano blocchi densi)\n",
    "- CSR Compressed Sparse Row\n",
    "- CSC Compressed Sparse Column\n",
    "\n",
    "In seguito ci concentreremo sul formato csr, in quanto è il più generico ed è largamente utilizzato."
   ]
  },
  {
   "cell_type": "code",
   "execution_count": 4,
   "metadata": {},
   "outputs": [],
   "source": [
    "# carico matrice test\n",
    "cartella = './matrici_test/'\n",
    "A = mmread(cartella+'can_292.mtx').tocsr()"
   ]
  },
  {
   "cell_type": "code",
   "execution_count": 5,
   "metadata": {},
   "outputs": [
    {
     "data": {
      "text/plain": [
       "<pyculib.sparse.api.CudaSparseMatrix at 0x7f74d78c3cf8>"
      ]
     },
     "execution_count": 5,
     "metadata": {},
     "output_type": "execute_result"
    }
   ],
   "source": [
    "# creiamo un'istanza vuota della classe csr_matrix su device\n",
    "d_A = sparse.CudaSparseMatrix()\n",
    "# trasferimento host -> device\n",
    "d_A.from_host_matrix(A)"
   ]
  },
  {
   "cell_type": "code",
   "execution_count": 6,
   "metadata": {
    "scrolled": true
   },
   "outputs": [],
   "source": [
    "del d_A\n",
    "# oppure, analogamente, inizializziamo la matrice in fase di creazione\n",
    "d_A = sparse.csr_matrix((A.data, A.indices, A.indptr))"
   ]
  },
  {
   "cell_type": "code",
   "execution_count": 7,
   "metadata": {},
   "outputs": [
    {
     "data": {
      "text/plain": [
       "(<numba.cuda.cudadrv.devicearray.DeviceNDArray at 0x7f74d017f5f8>,\n",
       " <numba.cuda.cudadrv.devicearray.DeviceNDArray at 0x7f74d017f9e8>,\n",
       " <numba.cuda.cudadrv.devicearray.DeviceNDArray at 0x7f74d017f6d8>,\n",
       " 2540,\n",
       " (292, 292))"
      ]
     },
     "execution_count": 7,
     "metadata": {},
     "output_type": "execute_result"
    }
   ],
   "source": [
    "# le matrici device formato CSR mantengono i principali metodi della classe csr_matrix di scipy.sparse\n",
    "d_A.data, d_A.indptr, d_A.indices, d_A.nnz, d_A.shape"
   ]
  },
  {
   "cell_type": "code",
   "execution_count": 8,
   "metadata": {},
   "outputs": [
    {
     "data": {
      "text/plain": [
       "['__class__',\n",
       " '__delattr__',\n",
       " '__dict__',\n",
       " '__dir__',\n",
       " '__doc__',\n",
       " '__eq__',\n",
       " '__format__',\n",
       " '__ge__',\n",
       " '__getattribute__',\n",
       " '__gt__',\n",
       " '__hash__',\n",
       " '__init__',\n",
       " '__le__',\n",
       " '__lt__',\n",
       " '__module__',\n",
       " '__ne__',\n",
       " '__new__',\n",
       " '__reduce__',\n",
       " '__reduce_ex__',\n",
       " '__repr__',\n",
       " '__setattr__',\n",
       " '__sizeof__',\n",
       " '__str__',\n",
       " '__subclasshook__',\n",
       " '__weakref__',\n",
       " 'copy_to_host',\n",
       " 'data',\n",
       " 'dtype',\n",
       " 'from_attributes',\n",
       " 'from_host_matrix',\n",
       " 'host_constructor',\n",
       " 'indices',\n",
       " 'indptr',\n",
       " 'ndim',\n",
       " 'nnz',\n",
       " 'shape']"
      ]
     },
     "execution_count": 8,
     "metadata": {},
     "output_type": "execute_result"
    }
   ],
   "source": [
    "dir(d_A)"
   ]
  },
  {
   "cell_type": "markdown",
   "metadata": {},
   "source": [
    "È spesso necessario fornire insieme alle matrici dei descrittori, che contengono informazioni sulle loro proprietà.\n",
    "Un descrittore si ottiene con la chiamata\n",
    "\n",
    "`pyculib.sparse.Sparse.matdescr(indexbase, diagtype, fillmode, matrixtype)`\n",
    "\n",
    "dove\n",
    "\n",
    "- indexbase = 0,1. Opzionale, se non è specificato viene utilizzato il valore di default specificato nel costruttore pyculib.sparse.Sparse. 0 per indicizzazione che parte da 0, 1 per indicizzazione che parte da 1.\n",
    "- diagtype = 'N','U'. Opzionale, valore di default ‘N’. ‘N’ significa che la matriche ha elementi diversi dall'unità sulla diagonale. ‘U’ significa che la diagonale contiene solo uno.\n",
    "- fillmode = 'L', 'U'. Opzionale, valore di default ‘L’. ‘L’ indica che è salvata la parte triangolare inferiore. ‘U’ indica che è salvata la parte trangolare superiore.\n",
    "- matrixtype = 'G', 'S', 'H', 'T'. Opzionale, valore di default ‘G’. ‘S’ indica che la matrice è simmetrica. ‘H’ indica che la matrice è Hermitiana. ‘T’ indica che la matrice è triangolare. ‘G’ è utilizzato per una matrice generica, che non è ne simmetrica, ne Hermitiana, ne triangolare."
   ]
  },
  {
   "cell_type": "code",
   "execution_count": 9,
   "metadata": {},
   "outputs": [
    {
     "data": {
      "text/plain": [
       "<matplotlib.lines.Line2D at 0x7f74d0147748>"
      ]
     },
     "execution_count": 9,
     "metadata": {},
     "output_type": "execute_result"
    },
    {
     "data": {
      "image/png": "[encoded data removed]",
      "text/plain": [
       "<Figure size 432x288 with 1 Axes>"
      ]
     },
     "metadata": {},
     "output_type": "display_data"
    }
   ],
   "source": [
    "plt.spy(A, markersize = 0.5)"
   ]
  },
  {
   "cell_type": "code",
   "execution_count": 10,
   "metadata": {},
   "outputs": [],
   "source": [
    "# descrittore per una matrice simmetrica\n",
    "descrA = cusparseH.matdescr(matrixtype = 'S') #diagtype = 'N', fillmode = 'L', indexbase = 0"
   ]
  },
  {
   "cell_type": "markdown",
   "metadata": {},
   "source": [
    "# Blas level 1: operazioni vettore sparso-vettore denso"
   ]
  },
  {
   "cell_type": "code",
   "execution_count": 11,
   "metadata": {},
   "outputs": [],
   "source": [
    "m,n = A.shape"
   ]
  },
  {
   "cell_type": "code",
   "execution_count": 12,
   "metadata": {},
   "outputs": [
    {
     "name": "stdout",
     "output_type": "stream",
     "text": [
      "[1. 1. 1. 1. 1. 1. 1. 1. 1. 1. 1. 1.]\n"
     ]
    }
   ],
   "source": [
    "# vettore sparso\n",
    "xVal = A.data[A.indptr[150]:A.indptr[151]].copy()\n",
    "xInd = A.indices[A.indptr[150]:A.indptr[151]].copy()\n",
    "print(xVal)"
   ]
  },
  {
   "cell_type": "code",
   "execution_count": 13,
   "metadata": {},
   "outputs": [],
   "source": [
    "# vettore in formato denso\n",
    "x = np.zeros(n)\n",
    "x[xInd] = xVal"
   ]
  },
  {
   "cell_type": "code",
   "execution_count": 14,
   "metadata": {},
   "outputs": [],
   "source": [
    "y = np.ones(n)"
   ]
  },
  {
   "cell_type": "code",
   "execution_count": 15,
   "metadata": {},
   "outputs": [
    {
     "data": {
      "text/plain": [
       "array([1., 1., 1., 1., 1., 1., 1., 1., 1., 1., 1., 1., 1., 1., 1., 1., 1.,\n",
       "       1., 1., 1., 1., 1., 1., 1., 1., 1., 1., 1., 1., 1., 1., 1., 1., 1.,\n",
       "       1., 1., 1., 1., 1., 1., 1., 1., 1., 1., 1., 1., 1., 1., 1., 1., 1.,\n",
       "       1., 1., 1., 1., 1., 2., 1., 1., 1., 1., 1., 1., 2., 1., 1., 1., 2.,\n",
       "       2., 1., 1., 1., 1., 1., 1., 1., 1., 1., 1., 1., 1., 1., 1., 1., 1.,\n",
       "       1., 1., 1., 1., 1., 1., 1., 1., 2., 1., 1., 1., 1., 1., 1., 1., 2.,\n",
       "       1., 1., 1., 1., 1., 1., 1., 1., 2., 1., 1., 1., 2., 2., 1., 1., 1.,\n",
       "       1., 1., 1., 1., 1., 1., 1., 1., 1., 1., 1., 1., 1., 1., 1., 1., 1.,\n",
       "       1., 1., 1., 1., 2., 1., 1., 1., 1., 1., 1., 1., 1., 1., 2., 1., 1.,\n",
       "       2., 1., 1., 1., 1., 1., 1., 1., 1., 1., 1., 1., 1., 1., 1., 1., 1.,\n",
       "       1., 1., 1., 1., 1., 1., 1., 1., 1., 1., 1., 1., 1., 1., 1., 1., 1.,\n",
       "       1., 1., 1., 1., 1., 1., 1., 1., 1., 1., 1., 1., 1., 1., 1., 1., 1.,\n",
       "       1., 1., 1., 1., 1., 1., 1., 1., 1., 1., 1., 1., 1., 1., 1., 1., 1.,\n",
       "       1., 1., 1., 1., 1., 1., 1., 1., 1., 1., 1., 1., 1., 1., 1., 1., 1.,\n",
       "       1., 1., 1., 1., 1., 1., 1., 1., 1., 1., 1., 1., 1., 1., 1., 1., 1.,\n",
       "       1., 1., 1., 1., 1., 1., 1., 1., 1., 1., 1., 1., 1., 1., 1., 1., 1.,\n",
       "       1., 1., 1., 1., 1., 1., 1., 1., 1., 1., 1., 1., 1., 1., 1., 1., 1.,\n",
       "       1., 1., 1.])"
      ]
     },
     "execution_count": 15,
     "metadata": {},
     "output_type": "execute_result"
    }
   ],
   "source": [
    "# axpyi(alpha, xVal, xInd, y)\n",
    "# calcolo sul posto di  y = alpha * x + y \n",
    "alpha = 1.0\n",
    "cusparseH.axpyi(alpha, xVal, xInd, y)"
   ]
  },
  {
   "cell_type": "code",
   "execution_count": 16,
   "metadata": {},
   "outputs": [],
   "source": [
    "# Equivalente a \n",
    "y = np.ones(n)\n",
    "y = alpha*x+y"
   ]
  },
  {
   "cell_type": "code",
   "execution_count": 17,
   "metadata": {},
   "outputs": [
    {
     "data": {
      "text/plain": [
       "array([1., 1., 1., 1., 1., 1., 1., 1., 1., 1., 1., 1., 1., 1., 1., 1., 1.,\n",
       "       1., 1., 1., 1., 1., 1., 1., 1., 1., 1., 1., 1., 1., 1., 1., 1., 1.,\n",
       "       1., 1., 1., 1., 1., 1., 1., 1., 1., 1., 1., 1., 1., 1., 1., 1., 1.,\n",
       "       1., 1., 1., 1., 1., 2., 1., 1., 1., 1., 1., 1., 2., 1., 1., 1., 2.,\n",
       "       2., 1., 1., 1., 1., 1., 1., 1., 1., 1., 1., 1., 1., 1., 1., 1., 1.,\n",
       "       1., 1., 1., 1., 1., 1., 1., 1., 2., 1., 1., 1., 1., 1., 1., 1., 2.,\n",
       "       1., 1., 1., 1., 1., 1., 1., 1., 2., 1., 1., 1., 2., 2., 1., 1., 1.,\n",
       "       1., 1., 1., 1., 1., 1., 1., 1., 1., 1., 1., 1., 1., 1., 1., 1., 1.,\n",
       "       1., 1., 1., 1., 2., 1., 1., 1., 1., 1., 1., 1., 1., 1., 2., 1., 1.,\n",
       "       2., 1., 1., 1., 1., 1., 1., 1., 1., 1., 1., 1., 1., 1., 1., 1., 1.,\n",
       "       1., 1., 1., 1., 1., 1., 1., 1., 1., 1., 1., 1., 1., 1., 1., 1., 1.,\n",
       "       1., 1., 1., 1., 1., 1., 1., 1., 1., 1., 1., 1., 1., 1., 1., 1., 1.,\n",
       "       1., 1., 1., 1., 1., 1., 1., 1., 1., 1., 1., 1., 1., 1., 1., 1., 1.,\n",
       "       1., 1., 1., 1., 1., 1., 1., 1., 1., 1., 1., 1., 1., 1., 1., 1., 1.,\n",
       "       1., 1., 1., 1., 1., 1., 1., 1., 1., 1., 1., 1., 1., 1., 1., 1., 1.,\n",
       "       1., 1., 1., 1., 1., 1., 1., 1., 1., 1., 1., 1., 1., 1., 1., 1., 1.,\n",
       "       1., 1., 1., 1., 1., 1., 1., 1., 1., 1., 1., 1., 1., 1., 1., 1., 1.,\n",
       "       1., 1., 1.])"
      ]
     },
     "execution_count": 17,
     "metadata": {},
     "output_type": "execute_result"
    }
   ],
   "source": [
    "# Verifica\n",
    "y"
   ]
  },
  {
   "cell_type": "code",
   "execution_count": 18,
   "metadata": {},
   "outputs": [
    {
     "name": "stdout",
     "output_type": "stream",
     "text": [
      "cublas:  12.0  numpy:  12.0\n"
     ]
    }
   ],
   "source": [
    "#prodotto interno \n",
    "y = np.ones(n)\n",
    "print('cublas: ', cusparseH.doti(xVal, xInd, y), ' numpy: ', np.dot(x,y))"
   ]
  },
  {
   "cell_type": "code",
   "execution_count": 19,
   "metadata": {},
   "outputs": [
    {
     "name": "stdout",
     "output_type": "stream",
     "text": [
      "Prima del gather: xVal =  [1. 1. 1. 1. 1. 1. 1. 1. 1. 1. 1. 1.]\n",
      "Dopo il gather: xVal =  [ 56.  63.  67.  68.  93. 101. 110. 114. 115. 140. 150. 153.] \n",
      "y[xInd] =  [ 56.  63.  67.  68.  93. 101. 110. 114. 115. 140. 150. 153.]\n"
     ]
    }
   ],
   "source": [
    "# gthr(y, xVal, xInd)\n",
    "# operazione gather: copia gli elementi di y di indice xInd nell'array xVal\n",
    "print('Prima del gather: xVal = ', xVal)\n",
    "y = np.arange(n, dtype = xVal.dtype)\n",
    "cusparseH.gthr(y, xVal, xInd)\n",
    "print('Dopo il gather: xVal = ', xVal, '\\ny[xInd] = ', y[xInd])"
   ]
  },
  {
   "cell_type": "code",
   "execution_count": 20,
   "metadata": {},
   "outputs": [
    {
     "name": "stdout",
     "output_type": "stream",
     "text": [
      "Prima dello scatter: y[xInd] = [1. 1. 1. 1. 1. 1. 1. 1. 1. 1. 1. 1.]\n",
      "Dopo lo scatter: y[xInd] = [ 56.  63.  67.  68.  93. 101. 110. 114. 115. 140. 150. 153.]\n"
     ]
    }
   ],
   "source": [
    "# sctr(xVal, xInd, y)\n",
    "# operazione scatter: copia gli elementi di xVal negli elementi di y di indice xInd\n",
    "y = np.ones(n)\n",
    "print('Prima dello scatter: y[xInd] =', y[xInd])\n",
    "cusparseH.sctr(xVal, xInd, y)\n",
    "print('Dopo lo scatter: y[xInd] =', y[xInd])"
   ]
  },
  {
   "cell_type": "code",
   "execution_count": 21,
   "metadata": {},
   "outputs": [],
   "source": [
    "del x,y,xVal,xInd"
   ]
  },
  {
   "cell_type": "markdown",
   "metadata": {},
   "source": [
    "# Blas level 2: operazioni matrice sparsa-vettore\n",
    "\n",
    "La maggior parte dei metodi della classe `pyculib.sparse.Sparse` accetta le strutture dati singole che compongono una matrice sparsa in formato compresso, i vettori `data`, `indices` e `indptr` nel caso del formato CSR.\n",
    "\n",
    "Come per cublas, nelle routine di livello 2 e 3 è necessario specificare quale tipo di operazione si deve effettuare sulla matrice con l'argomento \n",
    "\n",
    "- trans\n",
    "    - `trans = 'N'` corrisponde a op($X$) = $X$\n",
    "    - `trans = 'T'` corrisponde a op($X$) = $X^T$ (trasposta)\n",
    "    - `trans = 'H'` corrisponde a op($X$) = $X^H$ (trasposta coniugata)"
   ]
  },
  {
   "cell_type": "code",
   "execution_count": 22,
   "metadata": {},
   "outputs": [],
   "source": [
    "#generazione dei dati\n",
    "nnz = A.nnz\n",
    "m,n = A.shape\n",
    "x = np.ones(n)\n",
    "y = np.zeros_like(x)"
   ]
  },
  {
   "cell_type": "code",
   "execution_count": 23,
   "metadata": {},
   "outputs": [],
   "source": [
    "# csrmv(trans, m, n, nnz, alpha, descr, csrVal, csrRowPtr, csrColInd, x, beta, y)\n",
    "# moltiplicazione matrice (in formato csr) - vettore y = alpha * op(A) * x + beta * y\n",
    "# trans determina op(A), dim(A) = (m,n), la matrice A ha nnz elementi non nulli e descr e' un opportuno descrittore\n",
    "alpha = 1.0\n",
    "beta  = 0.0\n",
    "cusparseH.csrmv('N', m, n, A.nnz, alpha, descrA, A.data, A.indptr, A.indices, x, beta, y)"
   ]
  },
  {
   "cell_type": "code",
   "execution_count": 24,
   "metadata": {},
   "outputs": [
    {
     "name": "stdout",
     "output_type": "stream",
     "text": [
      "||Ax - y|| =  0.0\n"
     ]
    }
   ],
   "source": [
    "#verifica\n",
    "print('||Ax - y|| = ', np.linalg.norm(A*x - y))"
   ]
  },
  {
   "cell_type": "markdown",
   "metadata": {},
   "source": [
    "### Risoluzione di sistemi triangolari sparsi\n",
    "\n",
    "In generale, la risoluzione di sistemi triangolari è un'operazione puramente seriale, tuttavia, quando la matrice è sparsa, è possibile ottenere un certo grado di parallelismo che dipende della matrice. Perciò, la risoluzione di questi sistemi di articola in due step: \n",
    "- la fase di analisi, che calcola il grado di parallelismo corrispondente pattern della matrice \n",
    "- la fase di risolizione del sistema lineare"
   ]
  },
  {
   "cell_type": "code",
   "execution_count": 25,
   "metadata": {},
   "outputs": [],
   "source": [
    "# creazione del descrittore per matrici triangolari inferiori\n",
    "descrL = cusparseH.matdescr(matrixtype = 'T', fillmode = 'L')"
   ]
  },
  {
   "cell_type": "code",
   "execution_count": 26,
   "metadata": {},
   "outputs": [],
   "source": [
    "# creazione matrice triangolare\n",
    "L = scipy.sparse.tril(A).tocsr()"
   ]
  },
  {
   "cell_type": "code",
   "execution_count": 27,
   "metadata": {},
   "outputs": [],
   "source": [
    "# csrsv_analysis(trans, m, nnz, descr, csrVal, csrRowPtr, csrColInd)\n",
    "# fase di analisi del sistema triangolare op(A) * y = alpha * x\n",
    "# trans determina op(A), m e nnz sono il numero di righe e di non zeri di A risp., \n",
    "# descr e' un opportuno descrittore\n",
    "info = cusparseH.csrsv_analysis('N', m, L.nnz, descrL, L.data, L.indptr, L.indices)"
   ]
  },
  {
   "cell_type": "code",
   "execution_count": 28,
   "metadata": {},
   "outputs": [],
   "source": [
    "# csrsv_solve(trans, m, alpha, descr, csrVal, csrRowPtr, csrColInd, info, x, y)\n",
    "# fase di risoluzione del sistema triangolare op(A) * y = alpha * x\n",
    "# trans determina op(A), m e nnz sono il numero di righe e di non zeri di A risp., \n",
    "# descr e' un opportuno descrittore\n",
    "cusparseH.csrsv_solve('N', m, alpha, descrL, L.data, L.indptr, L.indices, info, x, y) "
   ]
  },
  {
   "cell_type": "code",
   "execution_count": 29,
   "metadata": {},
   "outputs": [
    {
     "name": "stdout",
     "output_type": "stream",
     "text": [
      "0.0\n"
     ]
    }
   ],
   "source": [
    "#verifica\n",
    "print(np.linalg.norm(L*y - x))"
   ]
  },
  {
   "cell_type": "code",
   "execution_count": 30,
   "metadata": {},
   "outputs": [],
   "source": [
    "del x,y"
   ]
  },
  {
   "cell_type": "markdown",
   "metadata": {},
   "source": [
    "# Blas level 3: operazioni matrice sparsa-matrice densa"
   ]
  },
  {
   "cell_type": "code",
   "execution_count": 31,
   "metadata": {},
   "outputs": [],
   "source": [
    "m,k = A.shape\n",
    "n = 128"
   ]
  },
  {
   "cell_type": "code",
   "execution_count": 32,
   "metadata": {},
   "outputs": [],
   "source": [
    "# carico matrice test\n",
    "B = np.asfortranarray(np.random.random((k,n)).astype(A.dtype))"
   ]
  },
  {
   "cell_type": "code",
   "execution_count": 33,
   "metadata": {},
   "outputs": [],
   "source": [
    "C = np.empty((m,n), order = 'F', dtype = A.dtype)"
   ]
  },
  {
   "cell_type": "code",
   "execution_count": 34,
   "metadata": {},
   "outputs": [],
   "source": [
    "# csrmm(transA, m, n, k, nnz, alpha, descrA, csrValA, csrRowPtrA, csrColIndA, B, ldb, beta, C, ldc)\n",
    "# moltiplicazione tra matrici C = alpha * op(A) * B + beta * C\n",
    "# A e' una matrice sparsa in formato CSR e B e C sono matrici dense\n",
    "# trans determina op(A), descr e' un opportuno descrittore, dim(A) = (m,k), dim(B) = (k,n), dim(C) = (m,n)\n",
    "cusparseH.csrmm('N', m, n, k, A.nnz, alpha, descrA, A.data, A.indptr, A.indices, B, k, beta, C, m)"
   ]
  },
  {
   "cell_type": "code",
   "execution_count": 35,
   "metadata": {},
   "outputs": [
    {
     "name": "stdout",
     "output_type": "stream",
     "text": [
      "||C - AB|| =  1.5247222757167875e-13\n"
     ]
    }
   ],
   "source": [
    "# verifica\n",
    "print('||C - AB|| = ', np.linalg.norm(C - alpha*A*B))"
   ]
  },
  {
   "cell_type": "code",
   "execution_count": 36,
   "metadata": {},
   "outputs": [],
   "source": [
    "del B, C"
   ]
  },
  {
   "cell_type": "markdown",
   "metadata": {},
   "source": [
    "### Risoluzione di un sistema triangolare sparso con membro destro multiplo"
   ]
  },
  {
   "cell_type": "code",
   "execution_count": 37,
   "metadata": {},
   "outputs": [],
   "source": [
    "X = np.asfortranarray(np.random.random((k,n)).astype(A.dtype))\n",
    "Y = np.empty((m,n), order = 'F', dtype = A.dtype)"
   ]
  },
  {
   "cell_type": "code",
   "execution_count": 38,
   "metadata": {},
   "outputs": [],
   "source": [
    "# csrsm_analysis(transA, m, nnz, descrA, csrValA, csrRowPtrA, csrColIndA)\n",
    "# fase di analisi del sistema triangolare a membro dx multiplo op(A) * Y = alpha * X\n",
    "# transA determina op(A), m e nnz sono il numero di righe e di non zeri di A risp., descrA e' un opportuno descrittore\n",
    "info = cusparseH.csrsm_analysis('N', m, L.nnz, descrL, L.data, L.indptr, L.indices)"
   ]
  },
  {
   "cell_type": "code",
   "execution_count": 39,
   "metadata": {},
   "outputs": [],
   "source": [
    "# csrsm_solve(transA, m, n, alpha, descrA, csrValA, csrRowPtrA, csrColIndA, info, X, ldx, Y, ldy)\n",
    "# fase di risoluzione del sistema triangolare a membro dx multiplo op(A) * Y = alpha * X\n",
    "# transA determina op(A), dim(A) = (m,n), descrA e' un opportuno descrittore\n",
    "# dim(X) = (ldx, n), dim(Y) = (ldy,n) \n",
    "cusparseH.csrsm_solve('N', m, k, alpha, descrL, L.data, L.indptr, L.indices, info, X, k, Y, m)"
   ]
  },
  {
   "cell_type": "code",
   "execution_count": 40,
   "metadata": {},
   "outputs": [
    {
     "name": "stdout",
     "output_type": "stream",
     "text": [
      "||L*Y - X|| =  3.086068101611013e-12\n"
     ]
    }
   ],
   "source": [
    "# verifica\n",
    "print('||L*Y - X|| = ', np.linalg.norm(L*Y - alpha*X))"
   ]
  },
  {
   "cell_type": "code",
   "execution_count": 41,
   "metadata": {},
   "outputs": [],
   "source": [
    "del X,Y,L"
   ]
  },
  {
   "cell_type": "markdown",
   "metadata": {},
   "source": [
    "# Funzioni extra: operazioni matrice sparsa-matrice sparsa\n",
    "\n",
    "Attenzione: per il momento queste funzioni supportano solo matrici con descrittore di tipo generale: `matrixtype = 'G'`.\n"
   ]
  },
  {
   "cell_type": "code",
   "execution_count": 42,
   "metadata": {},
   "outputs": [],
   "source": [
    "m,n = A.shape\n",
    "B = mmread(cartella+'ash292.mtx').tocsr()"
   ]
  },
  {
   "cell_type": "code",
   "execution_count": 43,
   "metadata": {},
   "outputs": [
    {
     "data": {
      "text/plain": [
       "<matplotlib.lines.Line2D at 0x7f74d00c0438>"
      ]
     },
     "execution_count": 43,
     "metadata": {},
     "output_type": "execute_result"
    },
    {
     "data": {
      "image/png": "[encoded data removed]",
      "text/plain": [
       "<Figure size 432x288 with 1 Axes>"
      ]
     },
     "metadata": {},
     "output_type": "display_data"
    }
   ],
   "source": [
    "# caricamento funzione test\n",
    "plt.spy(B, markersize = 0.7)"
   ]
  },
  {
   "cell_type": "code",
   "execution_count": 44,
   "metadata": {},
   "outputs": [],
   "source": [
    "descrA = cusparseH.matdescr(matrixtype = 'G')\n",
    "descrB = cusparseH.matdescr(matrixtype = 'G')\n",
    "descrC = cusparseH.matdescr(matrixtype = 'G')"
   ]
  },
  {
   "cell_type": "markdown",
   "metadata": {},
   "source": [
    "### Somma di matrici sparse"
   ]
  },
  {
   "cell_type": "code",
   "execution_count": 45,
   "metadata": {},
   "outputs": [],
   "source": [
    "# XcsrgeamNnz(m, n, descrA, nnzA, csrRowPtrA, csrColIndA, descrB, nnzB, csrRowPtrB, csrColIndB, descrC, csrRowPtrC)\n",
    "# calcola il  numero di elementi non nulli nella matrice C definita come\n",
    "# C = alpha * A + beta * B dove A, B, e C sono matrici sparse in formato CSR\n",
    "# dim(A) = dim(B) = dim(C) = (m,n), descrA e descrB sono opportuni descrittori di A e B,\n",
    "# indptr e' vettore di lunghezza m+1 che viene sovrascritto con i puntatori alle righe di C\n",
    "\n",
    "indptr = np.zeros_like(B.indptr)\n",
    "\n",
    "nnzC = cusparseH.XcsrgeamNnz(m, n, descrA, A.nnz, A.indptr, A.indices,\n",
    "                              descrB, B.nnz, B.indptr, B.indices, descrC, indptr)"
   ]
  },
  {
   "cell_type": "code",
   "execution_count": 46,
   "metadata": {},
   "outputs": [],
   "source": [
    "# noto nnzC, e' possibile allocare i vettori di lunghezza nnzC indices e data \n",
    "# che compongono insieme a indptr la struttura di C\n",
    "data    = np.zeros((nnzC,), dtype = A.dtype)\n",
    "indices = np.zeros((nnzC,), dtype = indptr.dtype)\n",
    "\n",
    "C = csr_matrix((data,indices,indptr), shape = (m,k))"
   ]
  },
  {
   "cell_type": "code",
   "execution_count": 47,
   "metadata": {},
   "outputs": [],
   "source": [
    "# csrgeam(m, n, alpha, descrA, nnzA, csrValA, csrRowPtrA, csrColIndA, beta, \n",
    "#         descrB, nnzB, csrValB, csrRowPtrB, csrColIndB, \n",
    "#         descrC, csrValC, csrRowPtrC, csrColIndC)\n",
    "# calcola la somma di matrici C = alpha * A + beta * B dove A, B, e C sono matrici sparse in formato CSR\n",
    "# dim(A) = dim(B) = dim(C) = (m,n), descrA, descrC descrB sono opportuni descrittori di A, B, C\n",
    "cusparseH.csrgeam(m, n, alpha, descrA, A.nnz, A.data, A.indptr, A.indices, \n",
    "                  alpha, descrB, B.nnz, B.data, B.indptr, B.indices,\n",
    "                  descrC,  C.data, C.indptr, C.indices)"
   ]
  },
  {
   "cell_type": "code",
   "execution_count": 48,
   "metadata": {},
   "outputs": [
    {
     "name": "stdout",
     "output_type": "stream",
     "text": [
      "||A+B-C|| =  0.0\n"
     ]
    }
   ],
   "source": [
    "print('||A+B-C|| = ', sla.norm(A+B-C))"
   ]
  },
  {
   "cell_type": "code",
   "execution_count": 49,
   "metadata": {},
   "outputs": [],
   "source": [
    "del indptr, C"
   ]
  },
  {
   "cell_type": "markdown",
   "metadata": {},
   "source": [
    "### Moltiplicazione tra matrici sparse"
   ]
  },
  {
   "cell_type": "code",
   "execution_count": 50,
   "metadata": {},
   "outputs": [],
   "source": [
    "m,k = A.shape\n",
    "k,n = B.shape\n",
    "\n",
    "indptr = np.zeros_like(A.indptr)"
   ]
  },
  {
   "cell_type": "code",
   "execution_count": 51,
   "metadata": {},
   "outputs": [],
   "source": [
    "# XcsrgemmNnz(transA, transB, m, n, k, descrA, nnzA, csrRowPtrA, csrColIndA, \n",
    "#             descrB, nnzB, csrRowPtrB, csrColIndB, descrC, csrRowPtrC)\n",
    "# calcola il  numero di elementi non nulli nella matrice C definita come\n",
    "# C = op(A) * op(B) dove A, B, e C sono matrici sparse in formato CSR\n",
    "# dim(A) = (m,k), dim(B) = (k,n), dim(C) = (m,n)\n",
    "# transA e transB determinano op(A) e op(B)\n",
    "# descrA e descrB sono opportuni descrittori di A e B\n",
    "# indptr e' vettore di lunghezza m+1 che viene sovrascritto con i puntatori alle righe di C\n",
    "nnzC = cusparseH.XcsrgemmNnz('N', 'N', m, n, k, descrA, A.nnz, A.indptr, A.indices,\n",
    "                             descrB, B.nnz, B.indptr, B.indices, descrC, indptr)\n"
   ]
  },
  {
   "cell_type": "code",
   "execution_count": 52,
   "metadata": {},
   "outputs": [],
   "source": [
    "# noto nnzC, e' possibile allocare i vettori di lunghezza nnzC indices e data \n",
    "# che compongono insieme a indptr la struttura di C\n",
    "data    = np.zeros((nnzC,), dtype = A.dtype)\n",
    "indices = np.zeros((nnzC,), dtype = indptr.dtype)\n",
    "\n",
    "C = csr_matrix((data,indices,indptr), shape = (m,n))"
   ]
  },
  {
   "cell_type": "code",
   "execution_count": 53,
   "metadata": {},
   "outputs": [],
   "source": [
    "# csrgemm(transA, transB, m, n, k, descrA, nnzA, csrValA, csrRowPtrA, csrColIndA, \n",
    "#         descrB, nnzB, csrValB, csrRowPtrB, csrColIndB, \n",
    "#         descrC, csrValC, csrRowPtrC, csrColIndC)\n",
    "# calcola la moltiplicazione matrice-matrice C = op(A) * op(B) dove A, B, e C sono matrici sparse in formato CSR\n",
    "# dim(A) = (m,k), dim(B) = (k,n), dim(C) = (m,n)\n",
    "# transA e transB determinano op(A) e op(B)\n",
    "# descrA, descrB e descrC sono opportuni descrittori di A, B, e C\n",
    "cusparseH.csrgemm('N', 'N', m, n, k, descrA, A.nnz, A.data, A.indptr, A.indices,\n",
    "                  descrB, B.nnz, B.data, B.indptr, B.indices, \n",
    "                  descrC, C.data, C.indptr, C.indices)"
   ]
  },
  {
   "cell_type": "code",
   "execution_count": 54,
   "metadata": {},
   "outputs": [
    {
     "name": "stdout",
     "output_type": "stream",
     "text": [
      "||A*B-C|| =  0.0\n"
     ]
    }
   ],
   "source": [
    "print('||A*B-C|| = ', sla.norm(A*B-C))"
   ]
  },
  {
   "cell_type": "code",
   "execution_count": 55,
   "metadata": {},
   "outputs": [],
   "source": [
    "del A,B,C"
   ]
  }
 ],
 "metadata": {
  "kernelspec": {
   "display_name": "Python 3",
   "language": "python",
   "name": "python3"
  },
  "language_info": {
   "codemirror_mode": {
    "name": "ipython",
    "version": 3
   },
   "file_extension": ".py",
   "mimetype": "text/x-python",
   "name": "python",
   "nbconvert_exporter": "python",
   "pygments_lexer": "ipython3",
   "version": "3.5.2"
  }
 },
 "nbformat": 4,
 "nbformat_minor": 2
}
