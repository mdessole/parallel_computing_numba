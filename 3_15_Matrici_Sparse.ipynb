{
 "cells": [
  {
   "cell_type": "markdown",
   "metadata": {},
   "source": [
    "![](https://www.math.unipd.it/~marcuzzi/BannerStrumentifondamentali.png)\n",
    "\n",
    "# Le matrici sparse\n",
    "\n",
    "Le matrici sparse sono una classe speciale di matrici con la caratteristica di contenere un significativo numero di elementi nulli, intuitivamente diciamo che gli zeri sono così tanti che se ne guadagna non tenendone conto. Le matrici sparse si contrappongono alle matrici dense, nelle quasi praticamente tutti gli elementi sono diversi da zero.\n",
    "\n",
    "Vediamo come cresce la memoria richiesta in funzione della dimensione $n$ di una matrice $n \\times n$, supponendo che i dati siano in doppia precisione, cioè che ogni elemento occupi 8 byte."
   ]
  },
  {
   "cell_type": "code",
   "execution_count": 1,
   "metadata": {},
   "outputs": [],
   "source": [
    "import numpy as np\n",
    "import matplotlib.pyplot as plt\n",
    "import scipy.sparse as sparse\n",
    "import matplotlib.pyplot as plt"
   ]
  },
  {
   "cell_type": "code",
   "execution_count": 2,
   "metadata": {
    "scrolled": true
   },
   "outputs": [
    {
     "data": {
      "image/png": "[encoded data removed]",
      "text/plain": [
       "<Figure size 432x288 with 1 Axes>"
      ]
     },
     "metadata": {},
     "output_type": "display_data"
    }
   ],
   "source": [
    "x = np.linspace(0, 1e6, 10)\n",
    "plt.plot(x, 8.0 * (x**2) / 1e6)\n",
    "plt.xlabel(\"dim n\")\n",
    "plt.ylabel(\"memoria [MB]\")\n",
    "plt.show()"
   ]
  },
  {
   "cell_type": "markdown",
   "metadata": {},
   "source": [
    "# Formati\n",
    "Python consente manipolare matrici sparse, memorizzandole in forma compatta, ossia memorizzando solo gli elementi non nulli insieme ai loro indici. Ciò permette di ridurre considerevolmente la memoria utilizzata e di ridurre il tempo di calcolo eliminando operazioni su elementi nulli.\n",
    "\n",
    "Esistono diversi metodi di *compressione* per le matrici sparse, vediamo i più comuni. Definiamo una matrice $mat$ di dimensione $n\\_rows \\times n\\_col$ con un numero totale di elementi non zero $nnz$. Affinché una matrice si possa dire sparse, $nnz$ deve essere molto piccolo rispetto al numero totale di entrale, che è uguale a $n\\_rows * n\\_col$. Vediamo le varie scritture in formato compresso per questa matrice."
   ]
  },
  {
   "cell_type": "code",
   "execution_count": 3,
   "metadata": {},
   "outputs": [
    {
     "name": "stdout",
     "output_type": "stream",
     "text": [
      "Formato denso \n",
      "[[4 0 9 0]\n",
      " [0 7 0 0]\n",
      " [0 0 0 0]\n",
      " [0 0 0 5]]\n"
     ]
    }
   ],
   "source": [
    "n_row = 4\n",
    "n_col = 4\n",
    "nnz   = 4\n",
    "mat = np.array([[4, 0, 9, 0],\n",
    "                [0, 7, 0, 0],\n",
    "                [0, 0, 0, 0],\n",
    "                [0, 0, 0, 5]])\n",
    "print(\"Formato denso \")\n",
    "print(mat)"
   ]
  },
  {
   "cell_type": "markdown",
   "metadata": {},
   "source": [
    "### Il formato COO (COOrdinate format)\n",
    "- una matrice è composta da tre array (row, col, data) di lunghezza nnz\n",
    "- `data[i]` è il valore dell'elemento della matrice in posizione `(row[i], col[i])`\n",
    "- non da accesso diretto alle sottomatrici o agli elementi\n",
    "- è un formato veloce per costruire matrici sparse\n",
    "- facilita le le conversioni tra i vari formati\n",
    "- adatto alla costruzione di matrici elementi finiti"
   ]
  },
  {
   "cell_type": "code",
   "execution_count": 4,
   "metadata": {},
   "outputs": [
    {
     "name": "stdout",
     "output_type": "stream",
     "text": [
      "Formato sparso \n",
      "  (0, 0)\t4\n",
      "  (0, 2)\t9\n",
      "  (1, 1)\t7\n",
      "  (3, 3)\t5\n"
     ]
    }
   ],
   "source": [
    "mat_coo = sparse.coo_matrix(mat)\n",
    "print(\"Formato sparso \")\n",
    "print(mat_coo)"
   ]
  },
  {
   "cell_type": "code",
   "execution_count": 5,
   "metadata": {},
   "outputs": [
    {
     "name": "stdout",
     "output_type": "stream",
     "text": [
      "indici di colonna\n",
      "[0 2 1 3]\n",
      "indici di riga\n",
      "[0 0 1 3]\n",
      "valori\n",
      "[4 9 7 5]\n"
     ]
    }
   ],
   "source": [
    "print(\"indici di colonna\")\n",
    "print(mat_coo.col)\n",
    "print(\"indici di riga\")\n",
    "print(mat_coo.row)\n",
    "print(\"valori\")\n",
    "print(mat_coo.data)"
   ]
  },
  {
   "cell_type": "code",
   "execution_count": 6,
   "metadata": {},
   "outputs": [
    {
     "name": "stdout",
     "output_type": "stream",
     "text": [
      "  (0, 0)\t4\n",
      "  (3, 3)\t5\n",
      "  (1, 1)\t7\n",
      "  (0, 2)\t9\n"
     ]
    }
   ],
   "source": [
    "#alternativa\n",
    "row = np.array([0, 3, 1, 0])\n",
    "col = np.array([0, 3, 1, 2])\n",
    "data = np.array([4, 5, 7, 9])\n",
    "mat_coo = sparse.coo_matrix((data, (row, col)), shape=(4, 4))\n",
    "print(mat_coo)"
   ]
  },
  {
   "cell_type": "code",
   "execution_count": 7,
   "metadata": {},
   "outputs": [
    {
     "ename": "TypeError",
     "evalue": "'coo_matrix' object is not subscriptable",
     "output_type": "error",
     "traceback": [
      "\u001b[0;31m---------------------------------------------------------------------------\u001b[0m",
      "\u001b[0;31mTypeError\u001b[0m                                 Traceback (most recent call last)",
      "\u001b[0;32m<ipython-input-7-5d9e9c03ce74>\u001b[0m in \u001b[0;36m<module>\u001b[0;34m()\u001b[0m\n\u001b[1;32m      1\u001b[0m \u001b[0;31m#slicing\u001b[0m\u001b[0;34m\u001b[0m\u001b[0;34m\u001b[0m\u001b[0m\n\u001b[0;32m----> 2\u001b[0;31m \u001b[0mprint\u001b[0m\u001b[0;34m(\u001b[0m\u001b[0mmat_coo\u001b[0m\u001b[0;34m[\u001b[0m\u001b[0;36m0\u001b[0m\u001b[0;34m,\u001b[0m\u001b[0;36m0\u001b[0m\u001b[0;34m]\u001b[0m\u001b[0;34m)\u001b[0m\u001b[0;34m\u001b[0m\u001b[0m\n\u001b[0m",
      "\u001b[0;31mTypeError\u001b[0m: 'coo_matrix' object is not subscriptable"
     ]
    }
   ],
   "source": [
    "#slicing\n",
    "print(mat_coo[0,0])"
   ]
  },
  {
   "cell_type": "markdown",
   "metadata": {},
   "source": [
    "### Il formato LIL (LInked Lists format)\n",
    "- una matrice è composta da due liste (rows, data) di lunghezza $n\\_rows$\n",
    "- ogni matrice viene salvata per righe\n",
    "- rows[i] è una lista che contiene gli indici colonna degli elementi non nulli della riga i-esima\n",
    "- data[i] è una lista che contiene i valori degli elementi non nulli della riga i-esima\n",
    "- è il formato più adatto ad essere modificato (elementi diversi da zero vensono aggiunti e/o eliminati)\n",
    "- si usa principalmente quando il pattern della matrice non è noto a priori o deve essere modificato\n",
    "- accesso diretto ottimizzato per righe e singoli elementi, accesso lento per colonne "
   ]
  },
  {
   "cell_type": "code",
   "execution_count": 8,
   "metadata": {},
   "outputs": [
    {
     "name": "stdout",
     "output_type": "stream",
     "text": [
      "Formato sparso\n",
      "  (0, 0)\t4\n",
      "  (0, 2)\t9\n",
      "  (1, 1)\t7\n",
      "  (3, 3)\t5\n"
     ]
    }
   ],
   "source": [
    "mat_lil = sparse.lil_matrix(mat)\n",
    "print(\"Formato sparso\")\n",
    "print(mat_lil)"
   ]
  },
  {
   "cell_type": "code",
   "execution_count": 9,
   "metadata": {},
   "outputs": [
    {
     "name": "stdout",
     "output_type": "stream",
     "text": [
      "indici di colonna\n",
      "[list([0, 2]) list([1]) list([]) list([3])]\n",
      "valori\n",
      "[list([4, 9]) list([7]) list([]) list([5])]\n"
     ]
    }
   ],
   "source": [
    "print(\"indici di colonna\")\n",
    "print(mat_lil.rows)\n",
    "print(\"valori\")\n",
    "print(mat_lil.data)"
   ]
  },
  {
   "cell_type": "code",
   "execution_count": 10,
   "metadata": {},
   "outputs": [
    {
     "name": "stdout",
     "output_type": "stream",
     "text": [
      "  (0, 0)\t4\n",
      "  (0, 2)\t9\n",
      "  (1, 1)\t7\n",
      "  (2, 2)\t-3\n",
      "  (3, 3)\t5\n"
     ]
    }
   ],
   "source": [
    "#aggiungo l'elemento -3 in posizione (2,2) \n",
    "mat_lil.rows[2].append(2)\n",
    "mat_lil.data[2].append(-3)\n",
    "print(mat_lil)"
   ]
  },
  {
   "cell_type": "code",
   "execution_count": 11,
   "metadata": {},
   "outputs": [
    {
     "name": "stdout",
     "output_type": "stream",
     "text": [
      "Elemento [0,0] =  4\n",
      "Sottomatrice [1:][:] = \n",
      "  (0, 1)\t7\n",
      "  (1, 2)\t-3\n",
      "  (2, 3)\t5\n"
     ]
    }
   ],
   "source": [
    "#slicing\n",
    "print(\"Elemento [0,0] = \", mat_lil[0,0])\n",
    "print(\"Sottomatrice [1:][:] = \")\n",
    "print( mat_lil[1:][:])"
   ]
  },
  {
   "cell_type": "markdown",
   "metadata": {},
   "source": [
    "### Il formato CSR (Compressed Sparse Row format)\n",
    "- una matrice è composta da tre array (data, indices, indptr)\n",
    "- indices è un array di lunghezza nnz che contiene gli indici colonna\n",
    "- data è un array di lunghezza nnz contiene i valori degli elementi non nulli\n",
    "- indptr è un array di lunghezza n_row+1 che punta all'inizio di ogni riga con un elemento extra per determinare la fine degli array indices e data\n",
    "- la riga i-esima è composta dagli elementi non nulli data[indptr[i]:indptr[i+1]] che indici di colonna indices[indptr[i]:indptr[i+1]]\n",
    "- le operazioni di algebra lineare sono ottimizzate con questo formato\n",
    "- accesso diretto ottimizzato per righe e singoli elementi, accesso lento per colonne\n",
    "- aggiungere elementi è difficile"
   ]
  },
  {
   "cell_type": "code",
   "execution_count": 12,
   "metadata": {},
   "outputs": [
    {
     "name": "stdout",
     "output_type": "stream",
     "text": [
      "[[4 0 9 0]\n",
      " [0 7 0 0]\n",
      " [0 0 0 0]\n",
      " [0 0 0 5]]\n",
      "Formato sparso \n",
      "  (0, 0)\t4\n",
      "  (0, 2)\t9\n",
      "  (1, 1)\t7\n",
      "  (3, 3)\t5\n"
     ]
    }
   ],
   "source": [
    "print(mat)\n",
    "mat_csr = sparse.csr_matrix(mat)\n",
    "print(\"Formato sparso \")\n",
    "print(mat_csr)"
   ]
  },
  {
   "cell_type": "code",
   "execution_count": 13,
   "metadata": {},
   "outputs": [
    {
     "name": "stdout",
     "output_type": "stream",
     "text": [
      "valori\n",
      "[4 9 7 5]\n",
      "indici di colonna\n",
      "[0 2 1 3]\n",
      "puntatori alle righe\n",
      "[0 2 3 3 4]\n"
     ]
    }
   ],
   "source": [
    "print(\"valori\")\n",
    "print(mat_csr.data)\n",
    "print(\"indici di colonna\")\n",
    "print(mat_csr.indices)\n",
    "print(\"puntatori alle righe\")\n",
    "print(mat_csr.indptr)"
   ]
  },
  {
   "cell_type": "code",
   "execution_count": 14,
   "metadata": {},
   "outputs": [
    {
     "name": "stdout",
     "output_type": "stream",
     "text": [
      "inizio della riga 1 =  2\n",
      "numero di elementi non nulli nella riga 1 =  1\n",
      "indici di colonna della riga 1 =  [1]\n",
      "numero di elementi non nulli nella matrice mat =  4\n"
     ]
    }
   ],
   "source": [
    "print(\"inizio della riga 1 = \", mat_csr.indptr[1])\n",
    "print(\"numero di elementi non nulli nella riga 1 = \", mat_csr.indptr[2] - mat_csr.indptr[1])\n",
    "print(\"indici di colonna della riga 1 = \", mat_csr.indices[mat_csr.indptr[1]:mat_csr.indptr[2]])\n",
    "print(\"numero di elementi non nulli nella matrice mat = \", mat_csr.indptr[n_row])"
   ]
  },
  {
   "cell_type": "code",
   "execution_count": 15,
   "metadata": {},
   "outputs": [
    {
     "name": "stdout",
     "output_type": "stream",
     "text": [
      "Elemento [0,0] =  4\n",
      "Sottomatrice [1:][:] = \n",
      "[[0 7 0 0]\n",
      " [0 0 0 0]\n",
      " [0 0 0 5]]\n"
     ]
    }
   ],
   "source": [
    "#slicing\n",
    "print(\"Elemento [0,0] = \", mat_csr[0,0])\n",
    "print(\"Sottomatrice [1:][:] = \")\n",
    "print( mat_csr[1:][:].todense())"
   ]
  },
  {
   "cell_type": "markdown",
   "metadata": {},
   "source": [
    "### Il formato CSC (Compressed Sparse Column format)\n",
    "- è il duale del formato csr, la matrice viene però salvata per colonne\n",
    "- una matrice è composta da tre array (data, indices, indptr)\n",
    "- indices è un array di lunghezza nnz che contiene gli indici riga\n",
    "- data è un array di lunghezza nnz contiene i valori degli elementi non nulli\n",
    "- indptr è un array di lunghezza n_col+1 che punta all'inizio di ogni colonna con un elemento extra per determinare la fine degli array indices e data\n",
    "- la colonna i-esima è composta dagli elementi non nulli data[indptr[i]:indptr[i+1]] che indici di colonna indices[indptr[i]:indptr[i+1]]\n",
    "- le operazioni di algebra lineare sono ottimizzate con questo formato\n",
    "- accesso diretto ottimizzato per colonne e singoli elementi, accesso lento per righe\n",
    "- aggiungere elementi è difficile"
   ]
  },
  {
   "cell_type": "code",
   "execution_count": 16,
   "metadata": {},
   "outputs": [
    {
     "name": "stdout",
     "output_type": "stream",
     "text": [
      "Formato sparso \n",
      "  (0, 0)\t4\n",
      "  (0, 2)\t9\n",
      "  (1, 1)\t7\n",
      "  (3, 3)\t5\n"
     ]
    }
   ],
   "source": [
    "mat_csr = sparse.csr_matrix(mat)\n",
    "print(\"Formato sparso \")\n",
    "print(mat_csr)"
   ]
  },
  {
   "cell_type": "code",
   "execution_count": 17,
   "metadata": {},
   "outputs": [
    {
     "name": "stdout",
     "output_type": "stream",
     "text": [
      "valori\n",
      "[4 9 7 5]\n",
      "indici di riga\n",
      "[0 2 1 3]\n",
      "puntatori alle colonna\n",
      "[0 2 3 3 4]\n"
     ]
    }
   ],
   "source": [
    "print(\"valori\")\n",
    "print(mat_csr.data)\n",
    "print(\"indici di riga\")\n",
    "print(mat_csr.indices)\n",
    "print(\"puntatori alle colonna\")\n",
    "print(mat_csr.indptr)"
   ]
  },
  {
   "cell_type": "code",
   "execution_count": 18,
   "metadata": {},
   "outputs": [
    {
     "name": "stdout",
     "output_type": "stream",
     "text": [
      "inizio della colonna 1 =  2\n",
      "numero di elementi non nulli nella colonna 1 =  1\n",
      "indici di riga della colonna 1 =  [1]\n",
      "numero di elementi non nulli nella matrice mat =  4\n"
     ]
    }
   ],
   "source": [
    "print(\"inizio della colonna 1 = \", mat_csr.indptr[1])\n",
    "print(\"numero di elementi non nulli nella colonna 1 = \", mat_csr.indptr[2] - mat_csr.indptr[1])\n",
    "print(\"indici di riga della colonna 1 = \", mat_csr.indices[mat_csr.indptr[1]:mat_csr.indptr[2]])\n",
    "print(\"numero di elementi non nulli nella matrice mat = \", mat_csr.indptr[n_col] - mat_csr.indptr[0])"
   ]
  },
  {
   "cell_type": "markdown",
   "metadata": {},
   "source": [
    "# Visualizzazione grafica"
   ]
  },
  {
   "cell_type": "code",
   "execution_count": 25,
   "metadata": {},
   "outputs": [],
   "source": [
    "from scipy.io import mmread\n",
    "cartella = './matrici_test/'"
   ]
  },
  {
   "cell_type": "code",
   "execution_count": 26,
   "metadata": {},
   "outputs": [
    {
     "data": {
      "text/plain": [
       "<matplotlib.lines.Line2D at 0x7f4566203588>"
      ]
     },
     "execution_count": 26,
     "metadata": {},
     "output_type": "execute_result"
    },
    {
     "data": {
      "image/png": "[encoded data removed]",
      "text/plain": [
       "<Figure size 432x288 with 1 Axes>"
      ]
     },
     "metadata": {},
     "output_type": "display_data"
    }
   ],
   "source": [
    "A = mmread(cartella+'ash292.mtx') #minimi quadrati\n",
    "plt.spy(A, markersize = 0.1)"
   ]
  },
  {
   "cell_type": "code",
   "execution_count": 27,
   "metadata": {},
   "outputs": [
    {
     "data": {
      "text/plain": [
       "<matplotlib.lines.Line2D at 0x7f45661b7ef0>"
      ]
     },
     "execution_count": 27,
     "metadata": {},
     "output_type": "execute_result"
    },
    {
     "data": {
      "image/png": "[encoded data removed]",
      "text/plain": [
       "<Figure size 432x288 with 1 Axes>"
      ]
     },
     "metadata": {},
     "output_type": "display_data"
    }
   ],
   "source": [
    "A = mmread(cartella+'arc130.mtx') #Jacobiana sistema nonlineare ODE\n",
    "plt.spy(A, markersize = 0.2)"
   ]
  },
  {
   "cell_type": "code",
   "execution_count": 28,
   "metadata": {},
   "outputs": [
    {
     "data": {
      "text/plain": [
       "<matplotlib.lines.Line2D at 0x7f4566178438>"
      ]
     },
     "execution_count": 28,
     "metadata": {},
     "output_type": "execute_result"
    },
    {
     "data": {
      "image/png": "[encoded data removed]",
      "text/plain": [
       "<Figure size 432x288 with 1 Axes>"
      ]
     },
     "metadata": {},
     "output_type": "display_data"
    }
   ],
   "source": [
    "A = mmread(cartella+'bcsstk13.mtx') #problema agli autovalori\n",
    "plt.spy(A, markersize = 0.1)"
   ]
  },
  {
   "cell_type": "code",
   "execution_count": 29,
   "metadata": {},
   "outputs": [
    {
     "data": {
      "text/plain": [
       "<matplotlib.lines.Line2D at 0x7f456612b2e8>"
      ]
     },
     "execution_count": 29,
     "metadata": {},
     "output_type": "execute_result"
    },
    {
     "data": {
      "image/png": "[encoded data removed]",
      "text/plain": [
       "<Figure size 432x288 with 1 Axes>"
      ]
     },
     "metadata": {},
     "output_type": "display_data"
    }
   ],
   "source": [
    "A = mmread(cartella+'cz148.mtx') #metodo Closest Point \n",
    "plt.spy(A, markersize = 0.1)"
   ]
  },
  {
   "cell_type": "code",
   "execution_count": 30,
   "metadata": {},
   "outputs": [
    {
     "data": {
      "text/plain": [
       "<matplotlib.lines.Line2D at 0x7f45660ea2e8>"
      ]
     },
     "execution_count": 30,
     "metadata": {},
     "output_type": "execute_result"
    },
    {
     "data": {
      "image/png": "[encoded data removed]",
      "text/plain": [
       "<Figure size 432x288 with 1 Axes>"
      ]
     },
     "metadata": {},
     "output_type": "display_data"
    }
   ],
   "source": [
    "A = mmread(cartella+'dwt_2680.mtx') #elementi finiti\n",
    "plt.spy(A, markersize = 0.1)"
   ]
  },
  {
   "cell_type": "markdown",
   "metadata": {},
   "source": [
    "Le matrici che descrivono problemi reali sono spesso stutturate.\n",
    "\n",
    "# Applicazioni\n",
    "- problemi con i grafi\n",
    "- metodo elementi finiti e differenze finite\n",
    "- soluzione di sistemi nonlineari\n",
    "- problemi boundary value\n",
    "- minimi quadrati"
   ]
  }
 ],
 "metadata": {
  "kernelspec": {
   "display_name": "Python 3",
   "language": "python",
   "name": "python3"
  },
  "language_info": {
   "codemirror_mode": {
    "name": "ipython",
    "version": 3
   },
   "file_extension": ".py",
   "mimetype": "text/x-python",
   "name": "python",
   "nbconvert_exporter": "python",
   "pygments_lexer": "ipython3",
   "version": "3.5.2"
  }
 },
 "nbformat": 4,
 "nbformat_minor": 2
}
