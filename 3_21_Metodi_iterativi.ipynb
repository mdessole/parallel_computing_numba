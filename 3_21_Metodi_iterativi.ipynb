{
 "cells": [
  {
   "cell_type": "markdown",
   "metadata": {},
   "source": [
    "![](https://www.math.unipd.it/~marcuzzi/BannerStrumentifondamentali.png)\n",
    "\n",
    "\n",
    "# Metodi iterativi\n",
    "Spesso i sistemi lineari la cui matrice è sparsa non sono risolti con la decomposizione LU, ma vengono utilizzati dei metodi che, partendo da un certo punto iniziale, si avvicinano per approssimazioni successive alla soluzione del sistema. Questi metodi sono noti come metodi iterarivi, e uno dei più diffusi nel caso di matrici simmetriche e definite positive è il **gradiente coniugato**.\n",
    "\n",
    "## Il gradiente coniugato\n",
    "\n",
    "Vogliamo calcolare la soluzione del sistema lineare\n",
    "$$ Ax = b, $$\n",
    "dove la matrice $A$ è quadrata, simmetrica e definita posiva.\n",
    "Notiamo che possiamo definire il seguente prodotto interno\n",
    "$$ \\langle u,v \\rangle_A = u^TAv, \\quad \\forall u,v \\in \\mathbb{R}^n.$$\n",
    "\n",
    "Se $u,v$ sono tali che $ \\langle u,v \\rangle_A = 0$, allora si dicono $A$-coniugati. Notiamo inolte che la soluzione del sistema $Ax = b$ deve essere l'unico punto di minimo della sequente forma quadratica\n",
    "$$ Q(x) = x^TAx - x^Tb, $$\n",
    "perchè\n",
    "$$ \\nabla Q(x) = 0 \\Leftrightarrow Ax-b=0.$$\n",
    "Questo suggetisce che una soluzione può essere trovata iterativamente partendo da un punto $x_0$ e procedendo lungo oppurtune direzioni $\\left\\{ p_k \\right\\}$. Dette $\\left\\{ x_k \\right\\}$ le iterate, le direzioni per la forma quadratica $Q$ sono date dai residui\n",
    "$$ r_k = -\\nabla Q(x) = b-Ax_k.$$\n",
    "Il metodo dei gradiente prende $p_k = r_k$, nel metodo del gradiente coniugato invece scegliamo direzioni $p_k$ che siano tra loro $A$-coniugate, perciò scegliamo\n",
    "$$ p_{k} = r_{k} + \\frac{r_{k}^Tr_{k}}{r_{k-1}^Tr_{k-1}}p_{k-1} $$\n",
    "e lungo questa direzione scegliamo\n",
    "$$ x_{k+1} = x_k+\\alpha_k p_k, \\quad \\alpha_k = \\frac{r_k^Tr_k}{p_k^TAp_k}. $$\n",
    "\n",
    "La ricerca termina quando l'errore sulla soluzione raggiunge una certa soglia di tolleranza, oppure quando viene raggiunto il numero massimo di iterazioni.\n",
    "\n",
    "L'implementazione seriale è immediata partendo da un qualsiasi speudocodice reperibile online, ad esempio si veda il codice matlab https://www.netlib.org/templates/matlab//cg.m."
   ]
  },
  {
   "cell_type": "code",
   "execution_count": 1,
   "metadata": {},
   "outputs": [],
   "source": [
    "import numpy as np\n",
    "from numba import cuda\n",
    "import numba\n",
    "from scipy.io import mmread\n",
    "import scipy\n",
    "import scipy.sparse.linalg as sla\n",
    "\n",
    "import matplotlib.pyplot as plt\n",
    "import math\n",
    "from timeit import default_timer"
   ]
  },
  {
   "cell_type": "code",
   "execution_count": 2,
   "metadata": {},
   "outputs": [],
   "source": [
    "import pyculib.blas as blas\n",
    "import pyculib.sparse as sparse"
   ]
  },
  {
   "cell_type": "code",
   "execution_count": 3,
   "metadata": {},
   "outputs": [],
   "source": [
    "cusparseH = sparse.Sparse()\n",
    "cublasH = blas.Blas()"
   ]
  },
  {
   "cell_type": "code",
   "execution_count": 4,
   "metadata": {},
   "outputs": [],
   "source": [
    "def cg_cpu(A, b, x = None, max_it = None, tol = 1e-5):\n",
    "    nnz = A.nnz\n",
    "    m,n = A.shape\n",
    "    if (m != n):\n",
    "        print(\"Errore: la matrice non e' quadrata\")\n",
    "        return\n",
    "    \n",
    "    if (max_it == None):\n",
    "        max_it = 10*n\n",
    "    if (x == None):\n",
    "        x = np.zeros((n,))\n",
    "    #endif\n",
    "    \n",
    "    flag = 0\n",
    "    iters = 0\n",
    "\n",
    "    bnrm2 = np.linalg.norm(b)\n",
    "    \n",
    "    if  ( bnrm2 == 0.0 ): \n",
    "        bnrm2 = 1.0\n",
    "    #endif\n",
    "\n",
    "    r = b - A.dot(x)\n",
    "\n",
    "    error = np.linalg.norm(r) / bnrm2\n",
    "    if ( error < tol ):\n",
    "        return\n",
    "\n",
    "    for iters in range(max_it):     \n",
    "        rho = np.linalg.norm(r)\n",
    "        rho = rho*rho\n",
    "\n",
    "        if ( iters > 0 ): #direzione di discesa\n",
    "            beta = rho / rho_1\n",
    "            p = r + beta*p\n",
    "        else:\n",
    "            p = r.copy()\n",
    "        #endif\n",
    "\n",
    "        q = A.dot(p)\n",
    "        \n",
    "        #aggiono la soluzione\n",
    "        alpha = rho / np.dot(p,q)\n",
    "        x = alpha*p + x\n",
    "        \n",
    "        #calcolo il residuo\n",
    "        r = -alpha*q + r\n",
    "\n",
    "        #controllo la convergenza\n",
    "        error = np.linalg.norm(r) / bnrm2 \n",
    "        if ( error <= tol ): \n",
    "            break\n",
    "        #endif\n",
    "        rho_1 = rho\n",
    "    #endfor\n",
    "    \n",
    "    if ( error > tol ):\n",
    "        flag = 1 # no convergenza\n",
    "    #endif\n",
    "    \n",
    "    return x, error, iters, flag"
   ]
  },
  {
   "cell_type": "code",
   "execution_count": 5,
   "metadata": {},
   "outputs": [],
   "source": [
    "def cg_gpu(A, b, x = None, max_it = None, tol = 1e-5):\n",
    "    nnz = A.nnz\n",
    "    m,n = A.shape\n",
    "    if (m != n):\n",
    "        print(\"Errore: la matrice non e' quadrata\")\n",
    "        return\n",
    "    \n",
    "    dtype  = A.dtype\n",
    "    one    = dtype.type(1.0)\n",
    "    oneopp = dtype.type(-1.0)\n",
    "    zero   = dtype.type(0.0)\n",
    "    r = cuda.device_array((n,), dtype=dtype)\n",
    "    p = cuda.device_array((n,), dtype=dtype)\n",
    "    q = cuda.device_array((n,), dtype=dtype)\n",
    "    \n",
    "    descrA = cusparseH.matdescr(matrixtype = 'S')\n",
    "    \n",
    "    if (max_it == None):\n",
    "        max_it = 10*n\n",
    "    if (x == None):\n",
    "        x = cuda.to_device(np.zeros((n,), dtype=dtype,order='F'))\n",
    "    #endif\n",
    "    \n",
    "    flag = 0\n",
    "    iters = 0\n",
    "    rho_1 = 0.0\n",
    "\n",
    "    bnrm2 = cublasH.nrm2(b)\n",
    "    \n",
    "    if  ( bnrm2 == 0.0 ): \n",
    "        bnrm2 = 1.0\n",
    "\n",
    "    # r = b - A*x\n",
    "    r.copy_to_device(b)\n",
    "    cusparseH.csrmv('N', n, n, nnz, oneopp, descrA, A.data, A.indptr, A.indices, x, one, r)\n",
    "\n",
    "    error = np.linalg.norm(r) / bnrm2\n",
    "    if ( error < tol ):\n",
    "        return\n",
    "    \n",
    "    for iters in range(max_it):  \n",
    "        #rho = np.dot(r,r)\n",
    "        rho = cublasH.nrm2(r)\n",
    "        rho = rho*rho\n",
    "\n",
    "        if ( iters > 0 ): #direzione di discesa\n",
    "            # p = r + beta*p\n",
    "            beta = rho / rho_1\n",
    "            cublasH.scal(beta, p)\n",
    "            cublasH.axpy(one, r, p)\n",
    "\n",
    "        else:\n",
    "            p.copy_to_device(r)\n",
    "        #end\n",
    "        \n",
    "        #q = A.dot(p)\n",
    "        cusparseH.csrmv('N', n, n, nnz, one, descrA, A.data, A.indptr, A.indices, p, zero, q)\n",
    "        \n",
    "        #aggiono la soluzione\n",
    "        alpha = rho / cublasH.dot(p,q)\n",
    "        cublasH.axpy(alpha, p, x)\n",
    "\n",
    "        #calcolo il residuo\n",
    "        cublasH.axpy( dtype.type(alpha*(-1.0)), q, r)\n",
    "\n",
    "        #controllo la convergenza\n",
    "        error = cublasH.nrm2(r) / bnrm2 \n",
    "        \n",
    "        if ( error <= tol ): \n",
    "            break\n",
    "        #endif\n",
    "        rho_1 = rho\n",
    "    #endfor\n",
    "\n",
    "    if ( error > tol ):\n",
    "        flag = 1 # no convergenza\n",
    "    #endif\n",
    "        \n",
    "    return x, error, iters, flag"
   ]
  },
  {
   "cell_type": "code",
   "execution_count": 6,
   "metadata": {},
   "outputs": [],
   "source": [
    "# importiamo la matrice test e generiamo il membro destro\n",
    "cartella = './matrici_test/'\n",
    "A = mmread(cartella+'sts4098.mtx').tocsr()\n",
    "b = np.random.random((A.shape[0],))"
   ]
  },
  {
   "cell_type": "code",
   "execution_count": 7,
   "metadata": {},
   "outputs": [
    {
     "data": {
      "text/plain": [
       "<matplotlib.lines.Line2D at 0x7f1550dccfd0>"
      ]
     },
     "execution_count": 7,
     "metadata": {},
     "output_type": "execute_result"
    },
    {
     "data": {
      "image/png": "[encoded data removed]",
      "text/plain": [
       "<Figure size 432x288 with 1 Axes>"
      ]
     },
     "metadata": {},
     "output_type": "display_data"
    }
   ],
   "source": [
    "plt.spy(A, markersize = 0.2)"
   ]
  },
  {
   "cell_type": "code",
   "execution_count": 8,
   "metadata": {},
   "outputs": [],
   "source": [
    "#trasferimento host -> device\n",
    "d_A = sparse.csr_matrix((A.data, A.indices, A.indptr))#scipy.sparse.tril(A).tocsr())\n",
    "d_b = cuda.to_device(b)"
   ]
  },
  {
   "cell_type": "code",
   "execution_count": 9,
   "metadata": {},
   "outputs": [],
   "source": [
    "d_x, error, iters, flag = cg_gpu(d_A, d_b)"
   ]
  },
  {
   "cell_type": "code",
   "execution_count": 10,
   "metadata": {},
   "outputs": [
    {
     "name": "stdout",
     "output_type": "stream",
     "text": [
      "iterazioni necessarie alla convergenza : 25904\n"
     ]
    }
   ],
   "source": [
    "print('iterazioni necessarie alla convergenza :', iters)"
   ]
  },
  {
   "cell_type": "code",
   "execution_count": 11,
   "metadata": {},
   "outputs": [
    {
     "name": "stdout",
     "output_type": "stream",
     "text": [
      "||Ax - b|| =  0.0003548150496773293\n"
     ]
    }
   ],
   "source": [
    "x_gpu = d_x.copy_to_host()\n",
    "print('||Ax - b|| = ', np.linalg.norm(A*x_gpu-b))"
   ]
  },
  {
   "cell_type": "code",
   "execution_count": 12,
   "metadata": {},
   "outputs": [],
   "source": [
    "x_cpu, error, iters, flag = cg_cpu(A, b)"
   ]
  },
  {
   "cell_type": "code",
   "execution_count": 13,
   "metadata": {},
   "outputs": [
    {
     "name": "stdout",
     "output_type": "stream",
     "text": [
      "iterazioni necessarie alla convergenza : 26060\n"
     ]
    }
   ],
   "source": [
    "print('iterazioni necessarie alla convergenza :', iters)"
   ]
  },
  {
   "cell_type": "code",
   "execution_count": 14,
   "metadata": {},
   "outputs": [
    {
     "name": "stdout",
     "output_type": "stream",
     "text": [
      "||Ax - b|| =  0.00036294204142443186\n"
     ]
    }
   ],
   "source": [
    "print('||Ax - b|| = ', np.linalg.norm(A*x_cpu-b))"
   ]
  },
  {
   "cell_type": "markdown",
   "metadata": {},
   "source": [
    "## Il numero di condizionamento\n",
    "\n",
    "Abbiamo già incontrato il numero di condizionamento di una matrice nella prima settimana del corso. Il numero di condizionamento esprime quando sono sensibili le soluzioni a piccole perturbazioni dei dati iniziali. Questo concetto è molto importante in generale, infatti un sistema mal condizionato tende ad amplificare anche l'errore (il rumore sui dati) contenuto nel termine noto. Matematicamente esso si esprime come il rapporto tra il valore singolare più grande e quello più piccolo della matrice, cioè\n",
    "\n",
    "$$ \\kappa(A) = \\frac{\\sigma_1}{\\sigma_n}. $$\n",
    "\n",
    "Una matrice è quindi malcondizionata quando il valore singolare più piccolo è molto vicino allo zero, o quando il gap tra i valori singolari è molto grande.\n",
    "Il numero di condizionamento si può esprimere anche in termini di autovalori, infatti \n",
    "\n",
    "$$ \\kappa(A) = \\sqrt{\\frac{\\lambda_1(A^TA)}{\\lambda_n(A^TA)}}, $$\n",
    "\n",
    "dove $\\lambda_1, \\lambda_n$ sono rispettivamente l'autovalore piu grande e piu piccolo della matrice $A^T A$.\n",
    "\n",
    "Il numero di condizionamento è uno dei fattori principali che influenza in numero di iterazioni necessarie alla convergenza di un metodo iterativo. Tuttavia la routine `numpy.linalg.cond` non è applicabile nel caso delle matrici sparse per ragioni di memoria. Nel caso di matrici sparse e di grandi dimensioni è preferibile calcolare gli autovalori della matrice $A^TA$. Per farlo utilizziamo la routine `scipy.sparse.linalg.eigs` che permette di calcolare autovalori e autovettori\n",
    "- la keywork `k` specifica il numero di autovalori e autovettori desiderati;\n",
    "- la keyword `which` specifica quali $k$ autovalori cercare, ad es. `which = 'LM'` specifica di trovare gli autovalori di norma più grande (LM = Largest Magnitude), `which = 'SM'` specifica di trovare gli autovalori di norma più piccola (SM = Smallest Magnitude), ecc... tuttavia non è consigliabile l'utilizzo di `which = 'SM'` per trovare gli autovalori più piccoli, infatti in questo caso la routine diventa molto lenta;\n",
    "- piuttosto, la keyword `sigma` permette di calcolare gli autovalori più piccoli in maniera più efficiente, utilizzando una modalità nota come *shift-invert*. Per trovare gli autovalori di norma vicina allo zero è sufficiente porre `sigma=0`."
   ]
  },
  {
   "cell_type": "code",
   "execution_count": 15,
   "metadata": {},
   "outputs": [],
   "source": [
    "ATA = A.T*A\n",
    "l_1, v = sla.eigs(ATA, k = 1)\n",
    "l_n, v = sla.eigs(ATA, k = 1, sigma = 0)"
   ]
  },
  {
   "cell_type": "code",
   "execution_count": 16,
   "metadata": {},
   "outputs": [
    {
     "name": "stdout",
     "output_type": "stream",
     "text": [
      "k(A) = 2.170866e+08\n"
     ]
    }
   ],
   "source": [
    "kA = math.sqrt(l_1[0].real/l_n[0].real)\n",
    "print('k(A) = %e'%kA)"
   ]
  },
  {
   "cell_type": "markdown",
   "metadata": {},
   "source": [
    "## Il precondizionamento\n",
    "Abbiamo accennato a come il numero di iterazioni necessario alla convergenza di un metodo iterativo dipenda dal nomero di condizionamento della matrice. Da questa necessità di migliorare il numero di condizionamento nasce l'idea di precondizionamento. Un precondizionatore (propriamente un precondizionatore sinistro) è una matrice $M$ che premoltiplica il sistema $Ax=b$. Poi, invece di risolvere il sistema originale, andiamo a risolvere il sistema equivalente\n",
    "\n",
    "$$ MAx = Mb. $$\n",
    "\n",
    "Idealmente, scegliamo il precondizionatore in maniera tale che $MA \\approx I$, più in generale chiediamo che il numero di condizionamento del nuovo sistema $\\kappa(MA)$ sia più basso del numero di condizionamento del sistema originale $\\kappa(A)$.\n",
    "\n",
    "In generale, la scelta del precondizionatore è un problema molto complesso. Qui ci limitiamo a vedere una delle tecniche di precondizionamento più semplici, il precondizionatore diagonale. Scegliamo quindi $M=diag(A)^{-1}$. In questo caso l'applicazione del precondizionatore consiste in un prodotto matrice vettore, che è un'operazione ben parallelizzabile."
   ]
  },
  {
   "cell_type": "code",
   "execution_count": 17,
   "metadata": {},
   "outputs": [],
   "source": [
    "def pcg_gpu(A, b, M, x = None, max_it = None, tol = 1e-5):\n",
    "    nnz = A.nnz\n",
    "    m,n = A.shape\n",
    "    if (m != n):\n",
    "        print(\"Errore: la matrice non e' quadrata\")\n",
    "        return\n",
    "    \n",
    "    dtype  = A.dtype\n",
    "    one    = dtype.type(1.0)\n",
    "    oneopp = dtype.type(-1.0)\n",
    "    zero   = dtype.type(0.0)\n",
    "    \n",
    "    descrA = cusparseH.matdescr(matrixtype = 'G')\n",
    "    \n",
    "    if (max_it == None):\n",
    "        max_it = 10*n\n",
    "    if (x == None):\n",
    "        x = cuda.to_device(np.zeros((n,), dtype=dtype,order='F'))\n",
    "    #endif\n",
    "    r = cuda.device_array((n,), dtype=dtype)\n",
    "    z = cuda.device_array((n,), dtype=dtype)\n",
    "    p = cuda.device_array((n,), dtype=dtype)\n",
    "    q = cuda.device_array((n,), dtype=dtype)\n",
    "    \n",
    "    flag = 0\n",
    "    iters = 0\n",
    "    rho_1 = 0.0\n",
    "\n",
    "    bnrm2 = cublasH.nrm2(b)\n",
    "    \n",
    "    if  ( bnrm2 == 0.0 ): \n",
    "        bnrm2 = 1.0\n",
    "\n",
    "    # r =b - A*x\n",
    "    r.copy_to_device(b)\n",
    "    \n",
    "    cusparseH.csrmv('N', n, n, nnz, oneopp, descrA, A.data, A.indptr, A.indices, x, one, r)\n",
    "\n",
    "    error = np.linalg.norm(r) / bnrm2\n",
    "    if ( error < tol ):\n",
    "        return\n",
    "    \n",
    "    for iters in range(max_it):  \n",
    "        #applico il precondizionatore: z = M * r\n",
    "        cusparseH.csrmv('N', n, n, M.nnz, one, descrA, M.data, M.indptr, M.indices, r, zero, z)\n",
    "        \n",
    "        rho = cublasH.dot(z,r)\n",
    "        \n",
    "\n",
    "        if ( iters > 0 ): #direzione di discesa\n",
    "            # p = z + beta*p\n",
    "            beta = rho / rho_1\n",
    "            cublasH.scal(beta, p)\n",
    "            cublasH.axpy(one, z, p)\n",
    "\n",
    "        else:\n",
    "            p.copy_to_device(z)\n",
    "        #end\n",
    "\n",
    "        \n",
    "        #q = A.dot(p)\n",
    "        cusparseH.csrmv('N', n, n, nnz, one, descrA, A.data, A.indptr, A.indices, p, zero, q)\n",
    "        \n",
    "        #aggiono la soluzione\n",
    "        alpha = rho / cublasH.dot(p,q)\n",
    "        cublasH.axpy(alpha, p, x)\n",
    "\n",
    "        #calcolo il residuo\n",
    "        cublasH.axpy( dtype.type(alpha*(-1.0)), q, r)\n",
    "\n",
    "        #controllo la convergenza\n",
    "        error = cublasH.nrm2(r) / bnrm2 \n",
    "        \n",
    "        if ( error <= tol ): \n",
    "            break\n",
    "        #endif\n",
    "        rho_1 = rho\n",
    "    #endfor\n",
    "\n",
    "    if ( error > tol ):\n",
    "        flag = 1 # no convergenza\n",
    "    #endif\n",
    "        \n",
    "    return x, error, iters, flag"
   ]
  },
  {
   "cell_type": "code",
   "execution_count": 18,
   "metadata": {},
   "outputs": [],
   "source": [
    "#calcolo del precondizionatore\n",
    "D = np.reciprocal(A.diagonal())\n",
    "D = scipy.sparse.diags([D], [0]).tocsr()\n",
    "d_D = sparse.csr_matrix((D.data, D.indices, D.indptr))"
   ]
  },
  {
   "cell_type": "code",
   "execution_count": 19,
   "metadata": {},
   "outputs": [],
   "source": [
    "d_x, error, iters, flag = pcg_gpu(d_A, d_b, d_D)"
   ]
  },
  {
   "cell_type": "code",
   "execution_count": 20,
   "metadata": {},
   "outputs": [
    {
     "name": "stdout",
     "output_type": "stream",
     "text": [
      "iterazioni necessarie alla convergenza : 361\n"
     ]
    }
   ],
   "source": [
    "print('iterazioni necessarie alla convergenza :', iters)"
   ]
  },
  {
   "cell_type": "code",
   "execution_count": 21,
   "metadata": {},
   "outputs": [
    {
     "name": "stdout",
     "output_type": "stream",
     "text": [
      "||Ax - b|| =  0.00036294204142443186\n"
     ]
    }
   ],
   "source": [
    "x_gpu = d_x.copy_to_host()\n",
    "print('||Ax - b|| = ', np.linalg.norm(A*x_cpu-b))"
   ]
  },
  {
   "cell_type": "code",
   "execution_count": 22,
   "metadata": {},
   "outputs": [],
   "source": [
    "del d_A, d_b, d_x"
   ]
  },
  {
   "cell_type": "code",
   "execution_count": 23,
   "metadata": {},
   "outputs": [],
   "source": [
    "DA = D*A\n",
    "M = (DA.T)*DA\n",
    "l_1, v = sla.eigs(M, k = 1)\n",
    "l_n, v = sla.eigs(M, k = 1, sigma = 0)"
   ]
  },
  {
   "cell_type": "code",
   "execution_count": 24,
   "metadata": {},
   "outputs": [
    {
     "name": "stdout",
     "output_type": "stream",
     "text": [
      "k(MA) = 7.518683e+06\n"
     ]
    }
   ],
   "source": [
    "kMA = math.sqrt(l_1[0].real/l_n[0].real)\n",
    "print('k(MA) = %e'%kMA)"
   ]
  },
  {
   "cell_type": "code",
   "execution_count": null,
   "metadata": {},
   "outputs": [],
   "source": []
  }
 ],
 "metadata": {
  "kernelspec": {
   "display_name": "Python 3",
   "language": "python",
   "name": "python3"
  },
  "language_info": {
   "codemirror_mode": {
    "name": "ipython",
    "version": 3
   },
   "file_extension": ".py",
   "mimetype": "text/x-python",
   "name": "python",
   "nbconvert_exporter": "python",
   "pygments_lexer": "ipython3",
   "version": "3.5.2"
  }
 },
 "nbformat": 4,
 "nbformat_minor": 2
}
