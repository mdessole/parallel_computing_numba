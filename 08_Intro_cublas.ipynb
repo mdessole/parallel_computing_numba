{
 "cells": [
  {
   "cell_type": "markdown",
   "metadata": {},
   "source": [
    "![](https://www.math.unipd.it/~marcuzzi/BannerStrumentifondamentali.png)\n",
    "\n",
    "# cuBLAS\n",
    "\n",
    "La libreria cuBLAS è un'implementazione della libreria BLAS (Basic Linear Algebra Subprograms) su scheda grafica fornita da NVIDIA. Il binding a cuBLAS di Pyculib fornisce un'interfaccia che accetta array NumPy trasferendoli automaticamente sulla memoria device, oppure array Numba precedentemente allocati sulla GPU.\n",
    "\n",
    "Tutte le funzioni sono accessibili tramite gli oggetti della classe `pyculib.blas.Blas`.\n",
    "     \n",
    "     \n",
    "# Attenzione\n",
    "La libreria cuBlas assume sempre che gli array siano salvati **per colonne** (come in fortran), e non per righe (come in C e Python). \n",
    "![](https://upload.wikimedia.org/wikipedia/commons/thumb/4/4d/Row_and_column_major_order.svg/170px-Row_and_column_major_order.svg.png)\n",
    "Per ovviare a questo problema, è sufficiente dichiarare gli array numpy specificando `order = 'F'` (cioè che siano salvati in memoria nell'ordine di Fortran, per righe), oppure passando alle funzioni gli array modificati con `numpy.asfortranarray()`."
   ]
  },
  {
   "cell_type": "code",
   "execution_count": 1,
   "metadata": {},
   "outputs": [],
   "source": [
    "import numpy as np\n",
    "import numba\n",
    "from numba import cuda\n",
    "import math"
   ]
  },
  {
   "cell_type": "code",
   "execution_count": 2,
   "metadata": {},
   "outputs": [],
   "source": [
    "import pyculib\n",
    "import pyculib.blas as blas"
   ]
  },
  {
   "cell_type": "code",
   "execution_count": 3,
   "metadata": {},
   "outputs": [],
   "source": [
    "# creo oggetto BLAS\n",
    "cublasH = blas.Blas()"
   ]
  },
  {
   "cell_type": "markdown",
   "metadata": {},
   "source": [
    "## BLAS level 1: operazioni vettore-vettore"
   ]
  },
  {
   "cell_type": "code",
   "execution_count": 4,
   "metadata": {},
   "outputs": [],
   "source": [
    "# generazione dei dati\n",
    "n = 256\n",
    "x = np.random.random((n,))\n",
    "y = np.random.random((n,))"
   ]
  },
  {
   "cell_type": "code",
   "execution_count": 5,
   "metadata": {},
   "outputs": [
    {
     "name": "stdout",
     "output_type": "stream",
     "text": [
      "cublas:  8.986256263249352 numpy:  8.986256263249352\n"
     ]
    }
   ],
   "source": [
    "# norma 2\n",
    "print('cublas: ',cublasH.nrm2(x), 'numpy: ', np.linalg.norm(x))"
   ]
  },
  {
   "cell_type": "code",
   "execution_count": 6,
   "metadata": {},
   "outputs": [
    {
     "name": "stdout",
     "output_type": "stream",
     "text": [
      "cublas:  57.7902185340501 numpy:  57.7902185340501\n"
     ]
    }
   ],
   "source": [
    "# prodotto interno\n",
    "print('cublas: ', cublasH.dot(x,y), 'numpy: ', np.dot(x,y))"
   ]
  },
  {
   "cell_type": "code",
   "execution_count": 8,
   "metadata": {},
   "outputs": [
    {
     "name": "stdout",
     "output_type": "stream",
     "text": [
      "||x-a*xold|| =  0.0\n"
     ]
    }
   ],
   "source": [
    "# scal(alpha, x)\n",
    "# moltiplicazione per scalare sul posto x = alpha*x\n",
    "alpha = 4.0\n",
    "xold = x.copy()\n",
    "cublasH.scal(alpha, x)\n",
    "print('||x-a*xold|| = ',cublasH.nrm2(x-alpha*xold))"
   ]
  },
  {
   "cell_type": "code",
   "execution_count": 9,
   "metadata": {},
   "outputs": [
    {
     "name": "stdout",
     "output_type": "stream",
     "text": [
      "||a*x + yold - y|| =  0.0\n"
     ]
    }
   ],
   "source": [
    "# axpy(alpha, x, y)\n",
    "# calcola sul posto  y = alpha * x + y \n",
    "yold = y.copy()\n",
    "cublasH.axpy(alpha, x, y)\n",
    "print('||a*x + yold - y|| = ',cublasH.nrm2(alpha*x + yold - y))"
   ]
  },
  {
   "cell_type": "code",
   "execution_count": 10,
   "metadata": {},
   "outputs": [
    {
     "name": "stdout",
     "output_type": "stream",
     "text": [
      "cublas:  174 numpy:  174\n"
     ]
    }
   ],
   "source": [
    "# amax(x)\n",
    "# calcola l'indice dell'elemento piu' grande di un array\n",
    "print('cublas: ', cublasH.amax(x), 'numpy: ',np.argmax(x))"
   ]
  },
  {
   "cell_type": "code",
   "execution_count": 11,
   "metadata": {},
   "outputs": [
    {
     "name": "stdout",
     "output_type": "stream",
     "text": [
      "cublas:  221 numpy:  221\n"
     ]
    }
   ],
   "source": [
    "# amin(x)\n",
    "# calcola l'indice dell'elemento piu' piccolo di un array\n",
    "print('cublas: ', cublasH.amin(x), 'numpy: ',np.argmin(x))"
   ]
  },
  {
   "cell_type": "code",
   "execution_count": 12,
   "metadata": {},
   "outputs": [
    {
     "name": "stdout",
     "output_type": "stream",
     "text": [
      "cublas:  492.9727590689481 numpy:  492.9727590689482\n"
     ]
    }
   ],
   "source": [
    "# asum(x)\n",
    "# calcola la somma di tutti gli elementi in un array\n",
    "print('cublas: ', cublasH.asum(x) , 'numpy: ',np.sum(x))"
   ]
  },
  {
   "cell_type": "code",
   "execution_count": 13,
   "metadata": {},
   "outputs": [
    {
     "name": "stdout",
     "output_type": "stream",
     "text": [
      "||c * xold + s * yold - x||  =  6.973225884473334e-15\n",
      "||-s * xold + c * yold - y|| =  7.513973108660854e-15\n"
     ]
    }
   ],
   "source": [
    "# rot(x, y, c, s)\n",
    "# applica sul posto la matrice di rotazione di Givens\n",
    "# |  c s |\n",
    "# | -s c |\n",
    "# agli array x e y, i.e. la rotazione nel piano x,y in senso orario di angolo alpha dato da \n",
    "# cos(alpha) = c, sin(alpha) = s.\n",
    "# equivalente a x, y = c * x + s * y, -s * x + c * y\n",
    "\n",
    "a = math.pi/4\n",
    "c = math.cos(a)\n",
    "s = math.sin(a)\n",
    "xold = x.copy()\n",
    "yold = y.copy()\n",
    "cublasH.rot(x, y, c, s)\n",
    "\n",
    "print('||c * xold + s * yold - x||  = ', cublasH.nrm2(c * xold + s * yold - x))\n",
    "print('||-s * xold + c * yold - y|| = ', cublasH.nrm2(-s * xold + c * yold - y))"
   ]
  },
  {
   "cell_type": "code",
   "execution_count": 14,
   "metadata": {},
   "outputs": [
    {
     "name": "stdout",
     "output_type": "stream",
     "text": [
      "c * a + s * b   =  6.3820059542435414 , r =  6.38200595424354\n",
      "- s * a + c * b =  4.440892098500626e-16\n"
     ]
    }
   ],
   "source": [
    "# rotg(a, b)\n",
    "# costruisce la matrice di rotazione di Givens che annulla la seconda entrata di un vettore colonna (a,b)^T, \n",
    "# cioe' risolve\n",
    "# |  c s | | a | = | r |\n",
    "# | -s c | | b |   | 0 |\n",
    "# dove c**2+s**2 = 1 e a**2+b**2 = r.\n",
    "\n",
    "# restuisce una tupla (r, z, c, s) dove\n",
    "# r = a**2 + b**2\n",
    "# z puo' essere usato per ricostruire c ed s (vedi documentazione cublas)\n",
    "# c coseno\n",
    "# s seno\n",
    "\n",
    "a = 3.7\n",
    "b = 5.2\n",
    "r, z, c, s = cublasH.rotg(a,b)\n",
    "\n",
    "print('c * a + s * b   = ', c * a + s * b, ', r = ', r)\n",
    "print('- s * a + c * b = ', - s * a + c * b)"
   ]
  },
  {
   "cell_type": "markdown",
   "metadata": {},
   "source": [
    "# Blas level 2: operazioni matrice-vettore\n",
    "\n",
    "Nelle routine di livello 2 e 3 è necessario specificare alcune caratteristiche della matrice in input attraverso i seguenti argomenti \n",
    "\n",
    "- trans specifica l'operazione da effettuare su una matrice $X$\n",
    "    - `trans = 'N'` corrisponde a op($X$) = $X$\n",
    "    - `trans = 'T'` corrisponde a op($X$) = $X^T$ (trasposta)\n",
    "    - `trans = 'H'` corrisponde a op($X$) = $X^H$ (trasposta coniugata)\n",
    "    \n",
    "- uplo\n",
    "    - `uplo = 'L'` indica che la matrice è tringolare inferiore\n",
    "    - `uplo = 'U'` indica che la matrice è tringolare superiore"
   ]
  },
  {
   "cell_type": "code",
   "execution_count": 15,
   "metadata": {},
   "outputs": [],
   "source": [
    "# generazione dei dati singola precisione\n",
    "m = n - 128\n",
    "x = np.random.random((n,)).astype(np.float32)\n",
    "y = np.zeros((m,)).astype(np.float32)\n",
    "A = np.random.random((m,n)).astype(np.float32) "
   ]
  },
  {
   "cell_type": "code",
   "execution_count": 16,
   "metadata": {},
   "outputs": [],
   "source": [
    "# gemv(trans, m, n, alpha, A, x, beta, y)\n",
    "# moltiplicazione matrice-vettore y = alpha * op(A) * x + beta * y\n",
    "# trans determina op(A) e dim(A) = (m,n)\n",
    "# Attenzione, A deve essere passata come array Fortran\n",
    "alpha = 1.0\n",
    "beta  = 0.0\n",
    "\n",
    "cublasH.gemv('N', m, n, alpha, np.asfortranarray(A), x, beta, y)"
   ]
  },
  {
   "cell_type": "code",
   "execution_count": 17,
   "metadata": {},
   "outputs": [
    {
     "name": "stdout",
     "output_type": "stream",
     "text": [
      "||Ax - y||  =  7.3178584e-05\n"
     ]
    }
   ],
   "source": [
    "# l'errore e' pari circa alla precisione di macchina con i float 32\n",
    "print('||Ax - y||  = ', np.linalg.norm( A@x - y))"
   ]
  },
  {
   "cell_type": "code",
   "execution_count": 18,
   "metadata": {},
   "outputs": [],
   "source": [
    "# generazione dei dati doppia precisione\n",
    "x = np.random.random((n,)).astype(np.float64)\n",
    "A = np.random.random((n,n)).astype(np.float64) "
   ]
  },
  {
   "cell_type": "code",
   "execution_count": 19,
   "metadata": {},
   "outputs": [],
   "source": [
    "# trmv(uplo, trans, diag, n, A, x)\n",
    "# moltiplicazione matrice triagolare-vettore sul posto x = op(A) * x\n",
    "# uplo indica se la matrice e' triangolare inferiore o superiore, trans determina op(A), e dim(A) = (n,n)\n",
    "xold = x.copy()\n",
    "cublasH.trmv('U', 'N', False, n, np.asfortranarray(A), x)"
   ]
  },
  {
   "cell_type": "code",
   "execution_count": 20,
   "metadata": {},
   "outputs": [
    {
     "name": "stdout",
     "output_type": "stream",
     "text": [
      "||Ax - y||  =  2.4731274494190633e-13\n"
     ]
    }
   ],
   "source": [
    "# l'errore e' pari circa alla precisione di macchina con i float 64\n",
    "print('||Ax - y||  = ', np.linalg.norm( np.triu(A)@xold - x))"
   ]
  },
  {
   "cell_type": "markdown",
   "metadata": {},
   "source": [
    "# Blas level 3: operazioni matrice-matrice"
   ]
  },
  {
   "cell_type": "code",
   "execution_count": 21,
   "metadata": {},
   "outputs": [],
   "source": [
    "# generazione dei dati\n",
    "m = n - 128\n",
    "k = m\n",
    "A = np.random.random((m,k)).astype(np.float64) \n",
    "B = np.random.random((k,n)).astype(np.float64) \n",
    "C = np.zeros((m,n), dtype = np.float64)\n",
    "C = np.asfortranarray(C)"
   ]
  },
  {
   "cell_type": "code",
   "execution_count": 22,
   "metadata": {},
   "outputs": [],
   "source": [
    "# gemm(transa, transb, m, n, k, alpha, A, B, beta, C)\n",
    "# moltiplicazione matrice-matrice C = alpha * op(A) * op(B) + beta * C\n",
    "# transa determina op(A), transb determina op(B), dim(A) = (m,k), dim(A) = (k,n) e dim(C) = (m,n)\n",
    "cublasH.gemm('N', 'N', m, n, k, alpha, np.asfortranarray(A), np.asfortranarray(B), beta, C)"
   ]
  },
  {
   "cell_type": "code",
   "execution_count": 23,
   "metadata": {},
   "outputs": [
    {
     "name": "stdout",
     "output_type": "stream",
     "text": [
      "||AB - C||  =  5.742003074354213e-13\n"
     ]
    }
   ],
   "source": [
    "print('||AB - C||  = ', np.linalg.norm(A@B - C))"
   ]
  },
  {
   "cell_type": "code",
   "execution_count": 24,
   "metadata": {},
   "outputs": [],
   "source": [
    "A = np.random.random((m,n)).astype(np.float64) \n",
    "B = np.random.random((m,n)).astype(np.float64) \n",
    "C = np.zeros((m,n), dtype = np.float64)\n",
    "C = np.asfortranarray(C)"
   ]
  },
  {
   "cell_type": "code",
   "execution_count": 25,
   "metadata": {},
   "outputs": [],
   "source": [
    "# geam(transa, transb, m, n, alpha, A, beta, B, C)\n",
    "# addizione/trasposizione di matrici C = alpha * op(A) + beta * op(B)\n",
    "# transa determina op(A), transb determina op(B), dim(A) = dim(B) = dim(C) = (m,n)\n",
    "cublasH.geam('N', 'N', m, n, alpha, np.asfortranarray(A), alpha, np.asfortranarray(B), C)"
   ]
  },
  {
   "cell_type": "code",
   "execution_count": 26,
   "metadata": {},
   "outputs": [
    {
     "name": "stdout",
     "output_type": "stream",
     "text": [
      "||A+B - C||  =  0.0\n"
     ]
    }
   ],
   "source": [
    "print('||A+B - C||  = ', np.linalg.norm(A+B - C))"
   ]
  },
  {
   "cell_type": "code",
   "execution_count": null,
   "metadata": {},
   "outputs": [],
   "source": []
  }
 ],
 "metadata": {
  "kernelspec": {
   "display_name": "Python 3",
   "language": "python",
   "name": "python3"
  },
  "language_info": {
   "codemirror_mode": {
    "name": "ipython",
    "version": 3
   },
   "file_extension": ".py",
   "mimetype": "text/x-python",
   "name": "python",
   "nbconvert_exporter": "python",
   "pygments_lexer": "ipython3",
   "version": "3.5.2"
  }
 },
 "nbformat": 4,
 "nbformat_minor": 2
}
