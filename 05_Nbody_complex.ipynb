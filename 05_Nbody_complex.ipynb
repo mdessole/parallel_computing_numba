{
 "cells": [
  {
   "cell_type": "markdown",
   "metadata": {},
   "source": [
    "# L'algoritmo All-Pairs N-Body \n",
    "\n",
    "In questo esercizio guidato applicherai applicheremo il parallelismo ad un esempio tratto dal mondo reale: il problema degli $N$-corpi, o in inglese $N$-body. Questo problema è molto importante nell'ambito della fisica computazionale, infatti la soluzione analitica è nota solo con $N=2$ e in alcuni casi con $N=3$, perciò poter calcolare una soluzione numerica è fondamentale.\n",
    "\n",
    "Dati $N$ corpi con posizioni iniziali $x_i$, massa $m_i$ e velocità $v_i$, $1 \\leq i \\leq N$, definiamo la forza $f_{ij}$ esercitata dal corpo $j$ sul corpo $i$ come\n",
    "$$ f_{ij} = G\\frac{m_im_j r_{ij}}{\\Vert r_{ij} \\Vert^3 }, $$\n",
    "dove $r_{ij} = x_j - x_i$.\n",
    "La forza fotale esercitata sul corpo $i$-esimo è dunque\n",
    "$$ F_i = \\sum_{j \\neq i} f_{ij} = G m_i \\sum_{j \\neq i}  \\frac{m_j r_{ij}}{\\Vert r_{ij} \\Vert^3 }. $$\n",
    "Quando due particelle si avvicinano troppo, la forza $f_{ij}$ che agisce tra di loro va all'infinito. Per impedire problemi numerici, introduciamo un fattore di smorzamento $\\varepsilon>0$\n",
    "$$ F_i \\approx G m_i \\sum_{j}  \\frac{m_j r_{ij}}{(\\Vert r_{ij} \\Vert^2 + \\varepsilon^2)^{3/2} }. $$\n",
    "La condizione $j \\neq i$ non è più necessaria perchè quando $r_{ii} = 0$ il fattore di smorzamento impedisce che il denominatore vada a zero.\n",
    "\n",
    "Per integrare le leggi del moto\n",
    "$$ a(t) = \\frac{dv}{dt}(t) = \\frac{dx^2}{dt^2}(t), \\\\  v(t) = \\frac{dx}{dt}(t), $$\n",
    "abbiamo bisogno dell'accelerazione, che ricaviamo applicando la seconda legge di Newton $a = F/m$. L'accelerazione della particella $i$-esima è quindi data da\n",
    "$$ a_i \\approx G \\sum_{j}  \\frac{m_j r_{ij}}{(\\Vert r_{ij} \\Vert^2 + \\varepsilon^2)^{3/2} }. $$\n",
    "\n",
    "Integrando nel tempo ( in questo caso utilizzando il metodo di Eulero **esplicito o implicito**), si ottiene l'evoluzione discreta di posizione e velocità:\n",
    "$$ v_{k+1} = a_k\\cdot dt + v_k, \\\\  x_{k+1} = v_{k+1} \\cdot dt + x_k = a_k\\cdot dt^2 + v_k\\cdot dt + x_k. $$\n",
    "\n",
    "### Scelta dei tipi\n",
    "Numba ancora non \n",
    "\n",
    "@article{article,\n",
    "author = {Nyland, Lars and Harris, M and Prins, Jan},\n",
    "year = {2009},\n",
    "month = {01},\n",
    "pages = {677-695},\n",
    "title = {Fast N-body simulation with CUDA},\n",
    "booktitle = {GPU Gem, Vol. 3}\n",
    "}"
   ]
  },
  {
   "cell_type": "code",
   "execution_count": 1,
   "metadata": {},
   "outputs": [],
   "source": [
    "import numpy as np\n",
    "import time\n",
    "from numba import cuda\n",
    "from numba import float32, complex64, void\n",
    "import math\n",
    "import numba\n",
    "import matplotlib.pyplot as plt\n",
    "import matplotlib.animation as animation\n",
    "%matplotlib inline"
   ]
  },
  {
   "cell_type": "code",
   "execution_count": 2,
   "metadata": {},
   "outputs": [],
   "source": [
    "EPS2 = 0.02"
   ]
  },
  {
   "cell_type": "code",
   "execution_count": 3,
   "metadata": {},
   "outputs": [],
   "source": [
    "def accerelation(i, x, m):\n",
    "    \"\"\"Accelerazione della particella i-esima\"\"\"\n",
    "    x_i = x[i]\n",
    "    #r_ij\n",
    "    r = x - x_i\n",
    "    \n",
    "    distSqrt = np.square(r.real) + np.square(r.imag) \n",
    "    \n",
    "    f = m*np.power(  distSqrt + EPS2 , -1.5)\n",
    "    \n",
    "    a = np.sum(r*f)\n",
    "    \n",
    "    return a\n"
   ]
  },
  {
   "cell_type": "code",
   "execution_count": 4,
   "metadata": {},
   "outputs": [],
   "source": [
    "def timestep(x0, v0, m, dt):\n",
    "    \"\"\"Computes the next position and velocity for all masses given\n",
    "    initial conditions and a time step size.\n",
    "    \"\"\"\n",
    "    N  = len(x0)\n",
    "    x1 = np.empty_like(x0)\n",
    "    v1 = np.empty_like(v0)\n",
    "    #ac = np.empty(v0.shape, dtype=float)\n",
    "    for i in range(N):\n",
    "        a_i0  = accerelation(i, x0, m)\n",
    "        #ac[i,:] = a_i0\n",
    "        v1[i] = a_i0 * dt + v0[i]\n",
    "        x1[i] = a_i0 * dt * dt + v0[i] * dt + x0[i]\n",
    "    #endfor\n",
    "    return x1, v1"
   ]
  },
  {
   "cell_type": "code",
   "execution_count": 5,
   "metadata": {},
   "outputs": [],
   "source": [
    "def initial_cond(N, D):\n",
    "    \"\"\"Generates initial conditions for N unity masses at rest\n",
    "    starting at random positions in D-dimensional space.\n",
    "    \"\"\"\n",
    "    x0 = np.random.rand(N, D)\n",
    "    v0 = np.zeros((N, D), dtype=float)\n",
    "    m = np.ones(N, dtype=float)\n",
    "    return x0, v0, m"
   ]
  },
  {
   "cell_type": "code",
   "execution_count": 6,
   "metadata": {},
   "outputs": [],
   "source": [
    "def simulate_cpu(x0, v0, m, N, maxit, dt):  \n",
    "    for s in range(maxit):\n",
    "        x1, v1 = timestep(x0, v0, m, dt)\n",
    "        x0, v0 = x1, v1\n",
    "    #endfor\n",
    "\n",
    "    return x1, v1"
   ]
  },
  {
   "cell_type": "code",
   "execution_count": 7,
   "metadata": {},
   "outputs": [],
   "source": [
    "N = 32\n",
    "#m = np.ones(N, dtype=float)\n",
    "x0 = np.random.random((N,2)).astype(np.float32) \n",
    "#v0 = np.zeros((N, 2), dtype=float)\n",
    "\n",
    "x0 = np.array(x0[:,0]+1j*x0[:,1], dtype = np.complex64)\n",
    "v0 = np.zeros((N,), dtype=np.complex64)\n",
    "m  = np.ones(N, dtype=np.float32)"
   ]
  },
  {
   "cell_type": "code",
   "execution_count": 8,
   "metadata": {},
   "outputs": [],
   "source": [
    "start = time.time()\n",
    "xs, vs = simulate_cpu(x0, v0, m, N, 1, 1e-3)\n",
    "stop = time.time()"
   ]
  },
  {
   "cell_type": "code",
   "execution_count": 9,
   "metadata": {},
   "outputs": [],
   "source": [
    "def plot_Nbody(x,v):\n",
    "    fig, ax = plt.subplots()\n",
    "    ax.quiver(x.real,x.imag,v.real,v.imag)\n",
    "    plt.scatter(x.real,x.imag, c='r', marker ='o')\n",
    "    return"
   ]
  },
  {
   "cell_type": "code",
   "execution_count": 10,
   "metadata": {},
   "outputs": [
    {
     "data": {
      "image/png": "[encoded data removed]",
      "text/plain": [
       "<Figure size 432x288 with 1 Axes>"
      ]
     },
     "metadata": {},
     "output_type": "display_data"
    }
   ],
   "source": [
    "plot_Nbody(xs,vs)"
   ]
  },
  {
   "cell_type": "markdown",
   "metadata": {},
   "source": [
    "# Implementiamo All-Pairs N-Body con CUDA Python\n",
    "\n",
    "L'dea generale dell'algoritmo *all-pairs* è che ogni particella venga assegnata ad thread, che ne calcola l'accerelazione. Il thread $i$-esimo calcola una ad una le interazioni $f_{ij}$ tra la particella $i$ e tutte le altre particelle $j$ con $1 \\leq j \\leq N$, sommando man mano le iterazioni per ottenere l'accelerazione risultante $a_i$. \n",
    "\n",
    "Il kernel così definito è 1D. I threads sono suddivisi in blocchi composti da $p$ threads. Per calcolare $f_{ij}$, il thread $i$ ha bisogno dei dati $m_j$, $x_j$, perciò **ogni dato viene letto esattamente $N$ volte**, una per thread.\n",
    "\n",
    "Per ottimizziare il riutilizzo dei dati, utilizziamo la shared memory. Come abbiamo visto, la shared memory è condivisa tra i threads di uno stesso blocco. \n",
    "\n",
    "Ogni blocco carica in shared la posizione $x$ e la massa $m$ di $p$ particelle per volta, dopodiché una barriera di sincronizzazione assicura che il trasferimento in memoria sia stato ultimato. Ogni thread calcola poi in maniera seriale le interazioni tra la particella assegnatagli e le particelle in shared e somma le interazioni. I thread vengono sincronizzati un'altra volta, così che tutte le interazioni siano state aggiornate, e il processo ripete con le successive $p$ particelle. \n",
    "\n",
    "Una volta che tutte le particelle sono state caricate, ogni thread ha calcolato in maniera incrementale l'accelerazione per la particella assegnatagli e scrive il risultato nell'array di output in memoria global.\n",
    "\n",
    "![](http://media2mult.uos.de/pmwiki/fields/gpu09/m2m.d/N-Body-Simulation.SimulationWithCUDA/media/image/algorithm.png)"
   ]
  },
  {
   "cell_type": "code",
   "execution_count": 36,
   "metadata": {},
   "outputs": [],
   "source": [
    "TILE = 32 #multiple of 32\n",
    "threadsperblock = TILE\n",
    "\n",
    "@cuda.jit('complex64(complex64, complex64, float32, complex64)',device = True)\n",
    "def f_ij(x_i, x_j, m, a):\n",
    "    #r_ij\n",
    "    r = x_j - x_i\n",
    "    \n",
    "    distSqrt = r.real**2 + r.imag**2  \n",
    "    \n",
    "    #f_ij\n",
    "    f = m*math.pow( distSqrt + EPS2, -1.5)\n",
    "    \n",
    "    a_new = a + r * f\n",
    "    \n",
    "    return a_new\n",
    "\n",
    "@cuda.jit('void(complex64[:], float32[:], complex64[:])')\n",
    "def acceleration_kernel(x, m, a):\n",
    "    i   = cuda.grid(1)\n",
    "    s_i = cuda.threadIdx.x\n",
    "    x_i = x[i]\n",
    "\n",
    "    \n",
    "    x_sh = cuda.shared.array(shape=(TILE), dtype = complex64)\n",
    "    m_sh = cuda.shared.array(shape=(TILE), dtype = float32)\n",
    "    tile = 0\n",
    "    a_i  = complex64(0.0 +1j*0.0)\n",
    "    N = x.shape[0]\n",
    "    \n",
    "    if (i < N):\n",
    "    \n",
    "        for k in range(0, N, TILE):\n",
    "            idx = tile*TILE + s_i\n",
    "        \n",
    "            if (idx>=N): break\n",
    "            #carico in shared p corpi\n",
    "            x_sh[s_i] = x[idx]\n",
    "            m_sh[s_i] = m[idx]\n",
    "        \n",
    "            cuda.syncthreads()\n",
    "        \n",
    "            #calcolo sequenziale delle iterazioni\n",
    "            for j in range(0,TILE):\n",
    "                a_i = f_ij(x_i, x_sh[j], m_sh[j], a_i)\n",
    "            #endfor\n",
    "            cuda.syncthreads()\n",
    "            tile = tile + 1\n",
    "        #endfor\n",
    "        a[i] = a_i\n",
    "    #endif\n",
    "    return"
   ]
  },
  {
   "cell_type": "code",
   "execution_count": 37,
   "metadata": {},
   "outputs": [],
   "source": [
    "@cuda.jit\n",
    "def update_variables(a, x, v, dt, x_new, v_new):\n",
    "    i = cuda.grid(1)\n",
    "    \n",
    "    if (i < a.shape[0]): \n",
    "        v_new[i] = a[i]*dt     + v[i] \n",
    "        x_new[i] = v_new[i]*dt + x[i]\n",
    "    #endif\n",
    "    return\n",
    "    \n",
    "\n",
    "def simulate_gpu(x0, v0, m, N, maxit, dt):\n",
    "    \"\"\"Computes the next position and velocity for all masses given\n",
    "    initial conditions and a time step size.\n",
    "    \"\"\"\n",
    "    blockspergrid = math.ceil(N/threadsperblock)\n",
    "    \n",
    "    d_x0 = numba.cuda.to_device(x0)\n",
    "    d_v0 = numba.cuda.to_device(v0)\n",
    "    d_m  = numba.cuda.to_device(m)\n",
    "    d_x1 = numba.cuda.device_array_like(x0)\n",
    "    d_v1 = numba.cuda.device_array_like(v0) \n",
    "    d_a  = numba.cuda.device_array_like(x0) \n",
    "\n",
    "    \n",
    "    for s in range(maxit):\n",
    "        forces_calculation[blockspergrid, threadsperblock](d_x0, d_m, d_a)\n",
    "        #acceleration_kernel[blockspergrid, threadsperblock](d_x0, d_m, d_a)\n",
    "        update_variables[blockspergrid, threadsperblock](d_a, d_x0, d_v0, dt, d_x1, d_v1)        \n",
    "        d_x0.copy_to_device(d_x1)\n",
    "        d_v0.copy_to_device(d_v1)\n",
    "    #endfor\n",
    "\n",
    "    return d_x1.copy_to_host(), d_v1.copy_to_host()"
   ]
  },
  {
   "cell_type": "code",
   "execution_count": 38,
   "metadata": {},
   "outputs": [],
   "source": [
    "x, v = simulate_gpu(x0, v0, m, N, 1, 1e-3)"
   ]
  },
  {
   "cell_type": "code",
   "execution_count": 39,
   "metadata": {},
   "outputs": [
    {
     "data": {
      "image/png": "[encoded data removed]",
      "text/plain": [
       "<Figure size 432x288 with 1 Axes>"
      ]
     },
     "metadata": {},
     "output_type": "display_data"
    }
   ],
   "source": [
    "plot_Nbody(x,v)"
   ]
  },
  {
   "cell_type": "code",
   "execution_count": 41,
   "metadata": {},
   "outputs": [
    {
     "data": {
      "image/png": "[encoded data removed]",
      "text/plain": [
       "<Figure size 432x288 with 1 Axes>"
      ]
     },
     "metadata": {},
     "output_type": "display_data"
    }
   ],
   "source": [
    "plot_Nbody(xs,vs)"
   ]
  },
  {
   "cell_type": "markdown",
   "metadata": {},
   "source": [
    "# Confronto\n",
    "\n",
    "Per confrontare le due implementazioni, calcoliamo i tempi di esecutione per le simulazioni con $100$ passi temporali al variare del numero di particelle $N$. "
   ]
  },
  {
   "cell_type": "code",
   "execution_count": 19,
   "metadata": {},
   "outputs": [],
   "source": [
    "iters = 100\n",
    "\n",
    "num_particles = [32, 64, 128, 256, 512, 1024]\n",
    "cpu_time = np.zeros(len(num_particles))\n",
    "gpu_time = np.zeros(len(num_particles))\n",
    "\n",
    "for i, N in enumerate(num_particles):\n",
    "    m  = np.ones(N, dtype=float)\n",
    "    x0 = np.random.rand(N, 2)\n",
    "    v0 = np.zeros((N, 2), dtype=float)\n",
    "    \n",
    "    start = time.time()\n",
    "    x, v = simulate(x0, v0, m, N, iters, 1e-3)\n",
    "    end = time.time()\n",
    "    cpu_time[i] = end-start\n",
    "    \n",
    "    x0 = np.array(x0[:,0]+1j*x0[:,1], dtype = np.complex64)\n",
    "    v0 = np.zeros((N,), dtype=np.complex64)\n",
    "    \n",
    "    start = time.time()\n",
    "    x, v = simulate_gpu(x0, v0, m, N, iters, 1e-3)\n",
    "    end = time.time()\n",
    "    gpu_time[i] = end-start    \n",
    "\n",
    "#end"
   ]
  },
  {
   "cell_type": "code",
   "execution_count": 23,
   "metadata": {},
   "outputs": [
    {
     "data": {
      "image/png": "[encoded data removed]",
      "text/plain": [
       "<Figure size 432x288 with 1 Axes>"
      ]
     },
     "metadata": {},
     "output_type": "display_data"
    },
    {
     "name": "stdout",
     "output_type": "stream",
     "text": [
      "55.83995833629499\n"
     ]
    }
   ],
   "source": [
    "plt.figure()\n",
    "plt.plot(num_particles, cpu_time)\n",
    "plt.plot(num_particles, gpu_time)\n",
    "plt.legend(['CPU', 'GPU'])\n",
    "plt.xlabel('N')\n",
    "plt.ylabel('Secondi')\n",
    "plt.show()\n",
    "print('Speed-up:', cpu_time[5]/gpu_time[5])"
   ]
  },
  {
   "cell_type": "markdown",
   "metadata": {},
   "source": [
    "Per $1024$ particelle le simulazioni in CUDA Python sono quasi $56$ volte più veloci rispetto al classico Python, nonostante stiamo calcolando anche i tempi di trasferimento in memoria tra host e device.\n",
    "\n",
    "Calcoliamo ora i tempi di esecuzione delle simulazioni in CUDA Python al variare della taglia del blocchi `TILE`. "
   ]
  },
  {
   "cell_type": "code",
   "execution_count": 21,
   "metadata": {},
   "outputs": [],
   "source": [
    "bs = [16, 32, 64]\n",
    "num_particles = [32, 64, 128, 256, 512, 1024]\n",
    "\n",
    "gpu_time_bs = np.zeros((len(num_particles),len(bs))) \n",
    "\n",
    "for i, N in enumerate(num_particles):\n",
    "    x0 = np.random.rand(N).astype(np.float32)+1j*np.random.rand(N).astype(np.float32)\n",
    "    v0 = np.zeros((N,), dtype=np.complex64)\n",
    "    m  = np.ones(N, dtype=np.float32)\n",
    "    for j, p in enumerate(bs):    \n",
    "        TILE = p #multiple of 32\n",
    "        threadsperblock = p\n",
    "    \n",
    "        start = time.time()\n",
    "        x, v = simulate_gpu(x0, v0, m, N, iters, 1e-3)\n",
    "        end = time.time()\n",
    "        gpu_time_bs[i,j] = end-start    \n",
    "    #end\n",
    "#end"
   ]
  },
  {
   "cell_type": "code",
   "execution_count": 25,
   "metadata": {},
   "outputs": [
    {
     "data": {
      "image/png": "[encoded data removed]",
      "text/plain": [
       "<Figure size 432x288 with 1 Axes>"
      ]
     },
     "metadata": {},
     "output_type": "display_data"
    }
   ],
   "source": [
    "plt.figure()\n",
    "plt.plot(num_particles, gpu_time_bs[:,0], 'x')\n",
    "plt.plot(num_particles, gpu_time_bs[:,1], '*')\n",
    "plt.plot(num_particles, gpu_time_bs[:,2], '+')\n",
    "plt.legend(['16', '32', '64'])\n",
    "plt.xlabel('N')\n",
    "plt.ylabel('Secondi')\n",
    "plt.show()"
   ]
  },
  {
   "cell_type": "markdown",
   "metadata": {},
   "source": [
    "Per $N \\leq 512$ le performance sembrano equivalenti, mentre con $N=1024$ vediamo che scegliere `TILE` più piccolo della warpsize ($=32$) comporta un netto peggioramento delle performance! \n",
    "\n",
    "\n",
    "NB: quest'esempio è tratto dall'articolo *Fast N-Body Simulation with CUDA* di Nyland, Harris e Prins\n",
    "http://media2mult.uos.de/pmwiki/fields/gpu09/index.php?n=N-Body-Simulation.Results"
   ]
  },
  {
   "cell_type": "code",
   "execution_count": null,
   "metadata": {},
   "outputs": [],
   "source": []
  }
 ],
 "metadata": {
  "kernelspec": {
   "display_name": "Python 3",
   "language": "python",
   "name": "python3"
  },
  "language_info": {
   "codemirror_mode": {
    "name": "ipython",
    "version": 3
   },
   "file_extension": ".py",
   "mimetype": "text/x-python",
   "name": "python",
   "nbconvert_exporter": "python",
   "pygments_lexer": "ipython3",
   "version": "3.5.2"
  }
 },
 "nbformat": 4,
 "nbformat_minor": 2
}
