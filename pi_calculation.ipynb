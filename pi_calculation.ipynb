{
 "cells": [
  {
   "cell_type": "markdown",
   "metadata": {},
   "source": [
    "# Il calcolo del pi-greco\n",
    "\n",
    "The value of PI can be calculated in various ways. Consider the Monte Carlo method of approximating PI:\n",
    "\n",
    "Incriviamo una circonferenza $C$ di raggio $r$ all'interno di un quadrato di lato $2r$. L'area del cerchio sara' $\\pi r^2 $ e l'area del quadrato $4r^2$ e il loro rapporto $\\pi r^2 / 4r^2 = \\pi/4 $.\n",
    "\n",
    "Se generiamo $N$ punti random nel quadrato, circa $M = N \\pi/4$ dovrebbero cadere all'interno della circonferenza. Allora possiamo approssimare $\\pi$ come\n",
    "$$ \\pi = 4*M/N. $$\n",
    "Notiamo che piu' numeri random generiamo, piu' accurata sara' la stima.\n",
    "\n",
    "Serial pseudo code for this procedure: \n",
    "\n",
    "![](https://computing.llnl.gov/tutorials/parallel_comp/images/pi1.gif)\n",
    "\n",
    "The problem is computationally intensive - most of the time is spent executing the loop\n",
    "\n",
    "\n",
    "-    Il problema si puo' parallelizzare?\n",
    "-    Come dovrebbe essere partizionato il problema? \n",
    "-    Sono necessarie comunicazioni tra threads? \n",
    "-    Ci sono dipendenze tra i dati?\n",
    "-    Sono necessarie sincronizzazioni?\n",
    "-    Il load balancing puo' essere un problema? \n",
    "\n",
    "https://computing.llnl.gov/tutorials/parallel_comp/\n",
    "\n",
    "\n",
    "###################################################\n",
    "\n",
    "Attenzione!~ Numba non si appogggia a cuRAND, il Random Number Generator (RNG) si numba e' un'implementazione dell'algoritmo xoroshiro128+ (http://xoshiro.di.unimi.it/)."
   ]
  },
  {
   "cell_type": "code",
   "execution_count": 3,
   "metadata": {},
   "outputs": [],
   "source": [
    "import numpy as np\n",
    "import random\n",
    "from numba import cuda\n",
    "from numba.cuda.random import create_xoroshiro128p_states, xoroshiro128p_uniform_float32"
   ]
  },
  {
   "cell_type": "code",
   "execution_count": 1,
   "metadata": {},
   "outputs": [
    {
     "name": "stdout",
     "output_type": "stream",
     "text": [
      "pi: 3.1416733\n"
     ]
    }
   ],
   "source": [
    "@cuda.jit\n",
    "def compute_pi(rng_states, iterations, out):\n",
    "    \"\"\"Find the maximum value in values and store in result[0]\"\"\"\n",
    "    thread_id = cuda.grid(1)\n",
    "\n",
    "    # Compute pi by drawing random (x, y) points and finding what\n",
    "    # fraction lie inside a unit circle\n",
    "    inside = 0\n",
    "    for i in range(iterations):\n",
    "        # Initialize RNG states on the GPU for parallel generators.\n",
    "        x = xoroshiro128p_uniform_float32(rng_states, thread_id)\n",
    "        y = xoroshiro128p_uniform_float32(rng_states, thread_id)\n",
    "        if x**2 + y**2 <= 1.0:\n",
    "            inside += 1\n",
    "\n",
    "    out[thread_id] = 4.0 * inside / iterations"
   ]
  },
  {
   "cell_type": "code",
   "execution_count": 5,
   "metadata": {},
   "outputs": [
    {
     "name": "stdout",
     "output_type": "stream",
     "text": [
      "pi = 3.14134852\n"
     ]
    }
   ],
   "source": [
    "npoints = 100000000\n",
    "circle_count = 0\n",
    "inside = 0\n",
    "\n",
    "for i in range(npoints):\n",
    "    #generate 2 random numbers between 0 and 1\n",
    "    x = random.random()\n",
    "    y = random.random()\n",
    "    if x**2 + y**2 <= 1.0:\n",
    "        inside += 1\n",
    "#endfor\n",
    "\n",
    "print('pi =', 4.0*inside/npoints)"
   ]
  },
  {
   "cell_type": "code",
   "execution_count": 6,
   "metadata": {},
   "outputs": [
    {
     "name": "stdout",
     "output_type": "stream",
     "text": [
      "pi: 3.1415894\n"
     ]
    }
   ],
   "source": [
    "threads_per_block = 64\n",
    "blocks = 24\n",
    "\n",
    "#Returns a new device array initialized for n random number generators.\n",
    "rng_states = create_xoroshiro128p_states(threads_per_block * blocks, seed=1)\n",
    "out = np.zeros(threads_per_block * blocks, dtype=np.float32)\n",
    "\n",
    "compute_pi[blocks, threads_per_block](rng_states, npoints, out)\n",
    "print('pi:', out.mean())"
   ]
  },
  {
   "cell_type": "code",
   "execution_count": null,
   "metadata": {},
   "outputs": [],
   "source": []
  }
 ],
 "metadata": {
  "kernelspec": {
   "display_name": "Python 3",
   "language": "python",
   "name": "python3"
  },
  "language_info": {
   "codemirror_mode": {
    "name": "ipython",
    "version": 3
   },
   "file_extension": ".py",
   "mimetype": "text/x-python",
   "name": "python",
   "nbconvert_exporter": "python",
   "pygments_lexer": "ipython3",
   "version": "3.5.2"
  }
 },
 "nbformat": 4,
 "nbformat_minor": 2
}
